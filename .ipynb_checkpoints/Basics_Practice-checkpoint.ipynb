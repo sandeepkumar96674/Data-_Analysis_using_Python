{
 "cells": [
  {
   "cell_type": "code",
   "execution_count": 10,
   "id": "3972e406",
   "metadata": {},
   "outputs": [
    {
     "name": "stdout",
     "output_type": "stream",
     "text": [
      "Hello World\n"
     ]
    }
   ],
   "source": [
    "print(\"Hello World\")"
   ]
  },
  {
   "cell_type": "code",
   "execution_count": 11,
   "id": "f2191932",
   "metadata": {},
   "outputs": [],
   "source": [
    "c=1+2j"
   ]
  },
  {
   "cell_type": "code",
   "execution_count": 12,
   "id": "8802ed55",
   "metadata": {},
   "outputs": [
    {
     "data": {
      "text/plain": [
       "complex"
      ]
     },
     "execution_count": 12,
     "metadata": {},
     "output_type": "execute_result"
    }
   ],
   "source": [
    "type(c)"
   ]
  },
  {
   "cell_type": "code",
   "execution_count": 13,
   "id": "a2019f74",
   "metadata": {},
   "outputs": [],
   "source": [
    "del (c)"
   ]
  },
  {
   "cell_type": "code",
   "execution_count": 14,
   "id": "2c7b1ff8",
   "metadata": {},
   "outputs": [
    {
     "ename": "NameError",
     "evalue": "name 'c' is not defined",
     "output_type": "error",
     "traceback": [
      "\u001b[1;31m---------------------------------------------------------------------------\u001b[0m",
      "\u001b[1;31mNameError\u001b[0m                                 Traceback (most recent call last)",
      "Input \u001b[1;32mIn [14]\u001b[0m, in \u001b[0;36m<cell line: 1>\u001b[1;34m()\u001b[0m\n\u001b[1;32m----> 1\u001b[0m \u001b[38;5;28mprint\u001b[39m(\u001b[43mc\u001b[49m)\n",
      "\u001b[1;31mNameError\u001b[0m: name 'c' is not defined"
     ]
    }
   ],
   "source": [
    "print(c)"
   ]
  },
  {
   "cell_type": "markdown",
   "id": "973eb56a",
   "metadata": {},
   "source": [
    "$a=b+c$"
   ]
  },
  {
   "cell_type": "code",
   "execution_count": 15,
   "id": "44de3ee1",
   "metadata": {},
   "outputs": [
    {
     "name": "stdout",
     "output_type": "stream",
     "text": [
      "Variable   Type      Data/Info\n",
      "------------------------------\n",
      "np         module    <module 'numpy' from 'C:\\<...>ges\\\\numpy\\\\__init__.py'>\n"
     ]
    }
   ],
   "source": [
    "%whos"
   ]
  },
  {
   "cell_type": "code",
   "execution_count": 16,
   "id": "55f914d4",
   "metadata": {},
   "outputs": [],
   "source": [
    "b,c,d,e,f=1,14,-34,45.2,10"
   ]
  },
  {
   "cell_type": "code",
   "execution_count": 17,
   "id": "46eb2d86",
   "metadata": {},
   "outputs": [
    {
     "name": "stdout",
     "output_type": "stream",
     "text": [
      "Variable   Type      Data/Info\n",
      "------------------------------\n",
      "b          int       1\n",
      "c          int       14\n",
      "d          int       -34\n",
      "e          float     45.2\n",
      "f          int       10\n",
      "np         module    <module 'numpy' from 'C:\\<...>ges\\\\numpy\\\\__init__.py'>\n"
     ]
    }
   ],
   "source": [
    "%whos"
   ]
  },
  {
   "cell_type": "code",
   "execution_count": 18,
   "id": "8f003988",
   "metadata": {},
   "outputs": [
    {
     "name": "stdout",
     "output_type": "stream",
     "text": [
      "Variable   Type      Data/Info\n",
      "------------------------------\n",
      "b          int       1\n",
      "c          int       14\n",
      "d          int       -34\n",
      "e          float     45.2\n",
      "f          int       10\n",
      "np         module    <module 'numpy' from 'C:\\<...>ges\\\\numpy\\\\__init__.py'>\n"
     ]
    }
   ],
   "source": [
    "%whos"
   ]
  },
  {
   "cell_type": "code",
   "execution_count": 19,
   "id": "94aa6d27",
   "metadata": {},
   "outputs": [],
   "source": [
    "x=90"
   ]
  },
  {
   "cell_type": "code",
   "execution_count": 20,
   "id": "d310aeaf",
   "metadata": {},
   "outputs": [
    {
     "name": "stdout",
     "output_type": "stream",
     "text": [
      "Variable   Type      Data/Info\n",
      "------------------------------\n",
      "b          int       1\n",
      "c          int       14\n",
      "d          int       -34\n",
      "e          float     45.2\n",
      "f          int       10\n",
      "np         module    <module 'numpy' from 'C:\\<...>ges\\\\numpy\\\\__init__.py'>\n",
      "x          int       90\n"
     ]
    }
   ],
   "source": [
    "%whos"
   ]
  },
  {
   "cell_type": "code",
   "execution_count": 21,
   "id": "a0798a1c",
   "metadata": {},
   "outputs": [
    {
     "data": {
      "text/plain": [
       "['__add__',\n",
       " '__class__',\n",
       " '__class_getitem__',\n",
       " '__contains__',\n",
       " '__delattr__',\n",
       " '__delitem__',\n",
       " '__dir__',\n",
       " '__doc__',\n",
       " '__eq__',\n",
       " '__format__',\n",
       " '__ge__',\n",
       " '__getattribute__',\n",
       " '__getitem__',\n",
       " '__gt__',\n",
       " '__hash__',\n",
       " '__iadd__',\n",
       " '__imul__',\n",
       " '__init__',\n",
       " '__init_subclass__',\n",
       " '__iter__',\n",
       " '__le__',\n",
       " '__len__',\n",
       " '__lt__',\n",
       " '__mul__',\n",
       " '__ne__',\n",
       " '__new__',\n",
       " '__reduce__',\n",
       " '__reduce_ex__',\n",
       " '__repr__',\n",
       " '__reversed__',\n",
       " '__rmul__',\n",
       " '__setattr__',\n",
       " '__setitem__',\n",
       " '__sizeof__',\n",
       " '__str__',\n",
       " '__subclasshook__',\n",
       " 'append',\n",
       " 'clear',\n",
       " 'copy',\n",
       " 'count',\n",
       " 'extend',\n",
       " 'index',\n",
       " 'insert',\n",
       " 'pop',\n",
       " 'remove',\n",
       " 'reverse',\n",
       " 'sort']"
      ]
     },
     "execution_count": 21,
     "metadata": {},
     "output_type": "execute_result"
    }
   ],
   "source": [
    "dir(list)"
   ]
  },
  {
   "cell_type": "code",
   "execution_count": 22,
   "id": "c531bced",
   "metadata": {},
   "outputs": [],
   "source": [
    "s=\"How are you buddy\""
   ]
  },
  {
   "cell_type": "code",
   "execution_count": 23,
   "id": "162d1999",
   "metadata": {},
   "outputs": [
    {
     "data": {
      "text/plain": [
       "'How are you buddy'"
      ]
     },
     "execution_count": 23,
     "metadata": {},
     "output_type": "execute_result"
    }
   ],
   "source": [
    "s"
   ]
  },
  {
   "cell_type": "code",
   "execution_count": 24,
   "id": "36f15031",
   "metadata": {},
   "outputs": [
    {
     "name": "stdout",
     "output_type": "stream",
     "text": [
      "<class 'str'>\n"
     ]
    }
   ],
   "source": [
    "print(type(s))"
   ]
  },
  {
   "cell_type": "code",
   "execution_count": 25,
   "id": "b988d74e",
   "metadata": {},
   "outputs": [
    {
     "data": {
      "text/plain": [
       "str"
      ]
     },
     "execution_count": 25,
     "metadata": {},
     "output_type": "execute_result"
    }
   ],
   "source": [
    "type(s)"
   ]
  },
  {
   "cell_type": "code",
   "execution_count": 26,
   "id": "591695df",
   "metadata": {},
   "outputs": [],
   "source": [
    "a=\"Sandeep\""
   ]
  },
  {
   "cell_type": "code",
   "execution_count": 27,
   "id": "59198b6e",
   "metadata": {},
   "outputs": [
    {
     "data": {
      "text/plain": [
       "'Sandeep'"
      ]
     },
     "execution_count": 27,
     "metadata": {},
     "output_type": "execute_result"
    }
   ],
   "source": [
    "a"
   ]
  },
  {
   "cell_type": "code",
   "execution_count": 28,
   "id": "3dd64af4",
   "metadata": {},
   "outputs": [
    {
     "data": {
      "text/plain": [
       "'Sandeep'"
      ]
     },
     "execution_count": 28,
     "metadata": {},
     "output_type": "execute_result"
    }
   ],
   "source": [
    "_"
   ]
  },
  {
   "cell_type": "code",
   "execution_count": 29,
   "id": "e581c9b5",
   "metadata": {},
   "outputs": [],
   "source": [
    "b=\"New\""
   ]
  },
  {
   "cell_type": "code",
   "execution_count": 30,
   "id": "bc7cfeeb",
   "metadata": {},
   "outputs": [
    {
     "data": {
      "text/plain": [
       "'New'"
      ]
     },
     "execution_count": 30,
     "metadata": {},
     "output_type": "execute_result"
    }
   ],
   "source": [
    "b"
   ]
  },
  {
   "cell_type": "code",
   "execution_count": 31,
   "id": "de1eefc5",
   "metadata": {},
   "outputs": [
    {
     "data": {
      "text/plain": [
       "'New'"
      ]
     },
     "execution_count": 31,
     "metadata": {},
     "output_type": "execute_result"
    }
   ],
   "source": [
    "_"
   ]
  },
  {
   "cell_type": "code",
   "execution_count": 32,
   "id": "099df88e",
   "metadata": {},
   "outputs": [
    {
     "name": "stdout",
     "output_type": "stream",
     "text": [
      "Variable   Type      Data/Info\n",
      "------------------------------\n",
      "a          str       Sandeep\n",
      "b          str       New\n",
      "c          int       14\n",
      "d          int       -34\n",
      "e          float     45.2\n",
      "f          int       10\n",
      "np         module    <module 'numpy' from 'C:\\<...>ges\\\\numpy\\\\__init__.py'>\n",
      "s          str       How are you buddy\n",
      "x          int       90\n"
     ]
    }
   ],
   "source": [
    "%whos"
   ]
  },
  {
   "cell_type": "code",
   "execution_count": 33,
   "id": "4f12e31c",
   "metadata": {},
   "outputs": [
    {
     "data": {
      "text/plain": [
       "True"
      ]
     },
     "execution_count": 33,
     "metadata": {},
     "output_type": "execute_result"
    }
   ],
   "source": [
    "'a'>'A'"
   ]
  },
  {
   "cell_type": "code",
   "execution_count": 34,
   "id": "ff050e7c",
   "metadata": {},
   "outputs": [
    {
     "data": {
      "text/plain": [
       "True"
      ]
     },
     "execution_count": 34,
     "metadata": {},
     "output_type": "execute_result"
    }
   ],
   "source": [
    "2!=3"
   ]
  },
  {
   "cell_type": "code",
   "execution_count": 35,
   "id": "44888083",
   "metadata": {},
   "outputs": [
    {
     "data": {
      "text/plain": [
       "False"
      ]
     },
     "execution_count": 35,
     "metadata": {},
     "output_type": "execute_result"
    }
   ],
   "source": [
    "not True and True and True"
   ]
  },
  {
   "cell_type": "code",
   "execution_count": 36,
   "id": "f453db2d",
   "metadata": {},
   "outputs": [
    {
     "name": "stdout",
     "output_type": "stream",
     "text": [
      "8\n"
     ]
    }
   ],
   "source": [
    "print(round(7.5))"
   ]
  },
  {
   "cell_type": "code",
   "execution_count": 37,
   "id": "f59f6cfd",
   "metadata": {},
   "outputs": [
    {
     "data": {
      "text/plain": [
       "(4, 4)"
      ]
     },
     "execution_count": 37,
     "metadata": {},
     "output_type": "execute_result"
    }
   ],
   "source": [
    "divmod(24,5)"
   ]
  },
  {
   "cell_type": "code",
   "execution_count": 38,
   "id": "890b15cb",
   "metadata": {},
   "outputs": [
    {
     "data": {
      "text/plain": [
       "(2, 0)"
      ]
     },
     "execution_count": 38,
     "metadata": {},
     "output_type": "execute_result"
    }
   ],
   "source": [
    "divmod(2,1)"
   ]
  },
  {
   "cell_type": "code",
   "execution_count": 39,
   "id": "00913853",
   "metadata": {},
   "outputs": [
    {
     "data": {
      "text/plain": [
       "True"
      ]
     },
     "execution_count": 39,
     "metadata": {},
     "output_type": "execute_result"
    }
   ],
   "source": [
    "isinstance(1,int)"
   ]
  },
  {
   "cell_type": "code",
   "execution_count": 40,
   "id": "dc0f8882",
   "metadata": {},
   "outputs": [
    {
     "data": {
      "text/plain": [
       "32"
      ]
     },
     "execution_count": 40,
     "metadata": {},
     "output_type": "execute_result"
    }
   ],
   "source": [
    "pow(2,5)"
   ]
  },
  {
   "cell_type": "code",
   "execution_count": 41,
   "id": "a682009e",
   "metadata": {},
   "outputs": [
    {
     "data": {
      "text/plain": [
       "1"
      ]
     },
     "execution_count": 41,
     "metadata": {},
     "output_type": "execute_result"
    }
   ],
   "source": [
    "pow(2,4,3)"
   ]
  },
  {
   "cell_type": "code",
   "execution_count": 42,
   "id": "8bfa9285",
   "metadata": {},
   "outputs": [
    {
     "name": "stdout",
     "output_type": "stream",
     "text": [
      "Help on method raw_input in module ipykernel.kernelbase:\n",
      "\n",
      "raw_input(prompt='') method of ipykernel.ipkernel.IPythonKernel instance\n",
      "    Forward raw_input to frontends\n",
      "    \n",
      "    Raises\n",
      "    ------\n",
      "    StdinNotImplementedError if active frontend doesn't support stdin.\n",
      "\n"
     ]
    }
   ],
   "source": [
    "help(input)"
   ]
  },
  {
   "cell_type": "code",
   "execution_count": 43,
   "id": "673445bb",
   "metadata": {},
   "outputs": [
    {
     "name": "stdout",
     "output_type": "stream",
     "text": [
      "1\n",
      "2\n",
      "3\n",
      "4\n",
      "5\n",
      "6\n",
      "7\n",
      "8\n",
      "9\n",
      "10\n",
      "[0, 1, 4, 9, 16, 25, 36, 49, 64, 81]\n"
     ]
    }
   ],
   "source": [
    "l=[]\n",
    "for i in range(10):\n",
    "    print(i+1)\n",
    "    l.append(i**2)\n",
    "print(l)"
   ]
  },
  {
   "cell_type": "code",
   "execution_count": 44,
   "id": "da68b10c",
   "metadata": {},
   "outputs": [
    {
     "data": {
      "text/plain": [
       "'Importing numpy for Numerical Analysis\\n'"
      ]
     },
     "execution_count": 44,
     "metadata": {},
     "output_type": "execute_result"
    }
   ],
   "source": [
    "import numpy as np\n",
    "\"\"\"Importing numpy for Numerical Analysis\n",
    "\"\"\""
   ]
  },
  {
   "cell_type": "code",
   "execution_count": 45,
   "id": "30915e4c",
   "metadata": {},
   "outputs": [],
   "source": [
    "np?"
   ]
  },
  {
   "cell_type": "code",
   "execution_count": 46,
   "id": "38f7304c",
   "metadata": {},
   "outputs": [],
   "source": [
    "len??"
   ]
  },
  {
   "cell_type": "code",
   "execution_count": 47,
   "id": "f9dcf318",
   "metadata": {},
   "outputs": [],
   "source": [
    "import sys"
   ]
  },
  {
   "cell_type": "code",
   "execution_count": 48,
   "id": "96ca63b2",
   "metadata": {},
   "outputs": [],
   "source": [
    "s=\"Sandeep\"\n",
    "a=\"Kumar\""
   ]
  },
  {
   "cell_type": "code",
   "execution_count": 49,
   "id": "74dda671",
   "metadata": {},
   "outputs": [
    {
     "name": "stdout",
     "output_type": "stream",
     "text": [
      "<class 'str'>\n"
     ]
    }
   ],
   "source": [
    "print(type(a))"
   ]
  },
  {
   "cell_type": "code",
   "execution_count": 50,
   "id": "d1fd8ab9",
   "metadata": {},
   "outputs": [
    {
     "data": {
      "text/plain": [
       "str"
      ]
     },
     "execution_count": 50,
     "metadata": {},
     "output_type": "execute_result"
    }
   ],
   "source": [
    "type(s)"
   ]
  },
  {
   "cell_type": "code",
   "execution_count": 51,
   "id": "372a829d",
   "metadata": {},
   "outputs": [],
   "source": [
    "a=np.array([1,2,3,4,5])\n",
    "b=np.array([1,2,43,4,5])"
   ]
  },
  {
   "cell_type": "code",
   "execution_count": 52,
   "id": "635e2289",
   "metadata": {},
   "outputs": [
    {
     "data": {
      "text/plain": [
       "array([1, 2, 4, 5])"
      ]
     },
     "execution_count": 52,
     "metadata": {},
     "output_type": "execute_result"
    }
   ],
   "source": [
    "np.intersect1d(a,b)"
   ]
  },
  {
   "cell_type": "code",
   "execution_count": 53,
   "id": "decc318b",
   "metadata": {},
   "outputs": [
    {
     "name": "stdout",
     "output_type": "stream",
     "text": [
      "<class 'numpy.ndarray'>\n"
     ]
    }
   ],
   "source": [
    "print(type(a))"
   ]
  },
  {
   "cell_type": "code",
   "execution_count": 54,
   "id": "db8a0265",
   "metadata": {},
   "outputs": [
    {
     "name": "stdout",
     "output_type": "stream",
     "text": [
      "<class 'numpy.ndarray'>\n"
     ]
    }
   ],
   "source": [
    "print(type(b))"
   ]
  },
  {
   "cell_type": "code",
   "execution_count": 55,
   "id": "756adbbe",
   "metadata": {},
   "outputs": [
    {
     "data": {
      "text/plain": [
       "dtype('int32')"
      ]
     },
     "execution_count": 55,
     "metadata": {},
     "output_type": "execute_result"
    }
   ],
   "source": [
    "a.dtype"
   ]
  },
  {
   "cell_type": "code",
   "execution_count": 56,
   "id": "33813748",
   "metadata": {},
   "outputs": [
    {
     "name": "stdout",
     "output_type": "stream",
     "text": [
      "1\n"
     ]
    }
   ],
   "source": [
    "print(a.ndim)"
   ]
  },
  {
   "cell_type": "code",
   "execution_count": 57,
   "id": "c3991ee0",
   "metadata": {},
   "outputs": [
    {
     "name": "stdout",
     "output_type": "stream",
     "text": [
      "1\n"
     ]
    }
   ],
   "source": [
    "print(b.ndim)"
   ]
  },
  {
   "cell_type": "code",
   "execution_count": 58,
   "id": "a91a3129",
   "metadata": {},
   "outputs": [
    {
     "name": "stdout",
     "output_type": "stream",
     "text": [
      "5\n"
     ]
    }
   ],
   "source": [
    "print(b.shape[0])"
   ]
  },
  {
   "cell_type": "code",
   "execution_count": 59,
   "id": "3eb41bdf",
   "metadata": {},
   "outputs": [
    {
     "name": "stderr",
     "output_type": "stream",
     "text": [
      "C:\\Users\\sande\\AppData\\Local\\Temp\\ipykernel_29356\\340799500.py:1: VisibleDeprecationWarning: Creating an ndarray from ragged nested sequences (which is a list-or-tuple of lists-or-tuples-or ndarrays with different lengths or shapes) is deprecated. If you meant to do this, you must specify 'dtype=object' when creating the ndarray.\n",
      "  c=np.array([[[1,2,3],[4,5,0],12,6,7]])\n"
     ]
    }
   ],
   "source": [
    "c=np.array([[[1,2,3],[4,5,0],12,6,7]])"
   ]
  },
  {
   "cell_type": "code",
   "execution_count": 60,
   "id": "c722477e",
   "metadata": {},
   "outputs": [
    {
     "data": {
      "text/plain": [
       "2"
      ]
     },
     "execution_count": 60,
     "metadata": {},
     "output_type": "execute_result"
    }
   ],
   "source": [
    "c.ndim"
   ]
  },
  {
   "cell_type": "code",
   "execution_count": 61,
   "id": "04123e03",
   "metadata": {},
   "outputs": [
    {
     "data": {
      "text/plain": [
       "[4, 5, 0]"
      ]
     },
     "execution_count": 61,
     "metadata": {},
     "output_type": "execute_result"
    }
   ],
   "source": [
    "c[0,1]"
   ]
  },
  {
   "cell_type": "code",
   "execution_count": 62,
   "id": "6dea5dc8",
   "metadata": {},
   "outputs": [],
   "source": [
    "a=2\n",
    "b=3\n",
    "c=5"
   ]
  },
  {
   "cell_type": "code",
   "execution_count": 63,
   "id": "6c3ac663",
   "metadata": {},
   "outputs": [],
   "source": [
    "first=a\n",
    "second=b\n",
    "third=c"
   ]
  },
  {
   "cell_type": "code",
   "execution_count": 64,
   "id": "0e16c672",
   "metadata": {},
   "outputs": [
    {
     "data": {
      "text/plain": [
       "['__abs__',\n",
       " '__add__',\n",
       " '__and__',\n",
       " '__bool__',\n",
       " '__ceil__',\n",
       " '__class__',\n",
       " '__delattr__',\n",
       " '__dir__',\n",
       " '__divmod__',\n",
       " '__doc__',\n",
       " '__eq__',\n",
       " '__float__',\n",
       " '__floor__',\n",
       " '__floordiv__',\n",
       " '__format__',\n",
       " '__ge__',\n",
       " '__getattribute__',\n",
       " '__getnewargs__',\n",
       " '__gt__',\n",
       " '__hash__',\n",
       " '__index__',\n",
       " '__init__',\n",
       " '__init_subclass__',\n",
       " '__int__',\n",
       " '__invert__',\n",
       " '__le__',\n",
       " '__lshift__',\n",
       " '__lt__',\n",
       " '__mod__',\n",
       " '__mul__',\n",
       " '__ne__',\n",
       " '__neg__',\n",
       " '__new__',\n",
       " '__or__',\n",
       " '__pos__',\n",
       " '__pow__',\n",
       " '__radd__',\n",
       " '__rand__',\n",
       " '__rdivmod__',\n",
       " '__reduce__',\n",
       " '__reduce_ex__',\n",
       " '__repr__',\n",
       " '__rfloordiv__',\n",
       " '__rlshift__',\n",
       " '__rmod__',\n",
       " '__rmul__',\n",
       " '__ror__',\n",
       " '__round__',\n",
       " '__rpow__',\n",
       " '__rrshift__',\n",
       " '__rshift__',\n",
       " '__rsub__',\n",
       " '__rtruediv__',\n",
       " '__rxor__',\n",
       " '__setattr__',\n",
       " '__sizeof__',\n",
       " '__str__',\n",
       " '__sub__',\n",
       " '__subclasshook__',\n",
       " '__truediv__',\n",
       " '__trunc__',\n",
       " '__xor__',\n",
       " 'as_integer_ratio',\n",
       " 'bit_length',\n",
       " 'conjugate',\n",
       " 'denominator',\n",
       " 'from_bytes',\n",
       " 'imag',\n",
       " 'numerator',\n",
       " 'real',\n",
       " 'to_bytes']"
      ]
     },
     "execution_count": 64,
     "metadata": {},
     "output_type": "execute_result"
    }
   ],
   "source": [
    "dir(a)"
   ]
  },
  {
   "cell_type": "code",
   "execution_count": 65,
   "id": "cdf992fb",
   "metadata": {},
   "outputs": [
    {
     "data": {
      "text/plain": [
       "1492472981840"
      ]
     },
     "execution_count": 65,
     "metadata": {},
     "output_type": "execute_result"
    }
   ],
   "source": [
    "id(a)"
   ]
  },
  {
   "cell_type": "code",
   "execution_count": 66,
   "id": "2066fdcc",
   "metadata": {},
   "outputs": [],
   "source": [
    "a=\"Sandeep\""
   ]
  },
  {
   "cell_type": "code",
   "execution_count": 67,
   "id": "14481aa6",
   "metadata": {},
   "outputs": [
    {
     "data": {
      "text/plain": [
       "1490946683568"
      ]
     },
     "execution_count": 67,
     "metadata": {},
     "output_type": "execute_result"
    }
   ],
   "source": [
    "id(a)"
   ]
  },
  {
   "cell_type": "code",
   "execution_count": 68,
   "id": "0e8906fd",
   "metadata": {},
   "outputs": [],
   "source": [
    "x=1212431.315341"
   ]
  },
  {
   "cell_type": "code",
   "execution_count": 69,
   "id": "71677fba",
   "metadata": {},
   "outputs": [
    {
     "data": {
      "text/plain": [
       "1212431"
      ]
     },
     "execution_count": 69,
     "metadata": {},
     "output_type": "execute_result"
    }
   ],
   "source": [
    "round(x)"
   ]
  },
  {
   "cell_type": "code",
   "execution_count": 70,
   "id": "7dac7bd8",
   "metadata": {},
   "outputs": [
    {
     "data": {
      "text/plain": [
       "1212431.3153"
      ]
     },
     "execution_count": 70,
     "metadata": {},
     "output_type": "execute_result"
    }
   ],
   "source": [
    "round(x,4)"
   ]
  },
  {
   "cell_type": "code",
   "execution_count": 71,
   "id": "20421410",
   "metadata": {},
   "outputs": [
    {
     "data": {
      "text/plain": [
       "16"
      ]
     },
     "execution_count": 71,
     "metadata": {},
     "output_type": "execute_result"
    }
   ],
   "source": [
    "10+2*3"
   ]
  },
  {
   "cell_type": "code",
   "execution_count": 72,
   "id": "1a47419d",
   "metadata": {},
   "outputs": [
    {
     "data": {
      "text/plain": [
       "36"
      ]
     },
     "execution_count": 72,
     "metadata": {},
     "output_type": "execute_result"
    }
   ],
   "source": [
    "(10+2)*3"
   ]
  },
  {
   "cell_type": "code",
   "execution_count": 73,
   "id": "9a4bd3e8",
   "metadata": {},
   "outputs": [
    {
     "data": {
      "text/plain": [
       "0.2999999999999998"
      ]
     },
     "execution_count": 73,
     "metadata": {},
     "output_type": "execute_result"
    }
   ],
   "source": [
    "6-5.7"
   ]
  },
  {
   "cell_type": "code",
   "execution_count": 74,
   "id": "74a8d386",
   "metadata": {},
   "outputs": [
    {
     "data": {
      "text/plain": [
       "0.3"
      ]
     },
     "execution_count": 74,
     "metadata": {},
     "output_type": "execute_result"
    }
   ],
   "source": [
    "round(6-5.7,2)"
   ]
  },
  {
   "cell_type": "code",
   "execution_count": 75,
   "id": "af94ba6e",
   "metadata": {},
   "outputs": [],
   "source": [
    "name=\"Sandeep Kumar\""
   ]
  },
  {
   "cell_type": "code",
   "execution_count": 76,
   "id": "5906def9",
   "metadata": {},
   "outputs": [
    {
     "data": {
      "text/plain": [
       "'a'"
      ]
     },
     "execution_count": 76,
     "metadata": {},
     "output_type": "execute_result"
    }
   ],
   "source": [
    "name[1]"
   ]
  },
  {
   "cell_type": "code",
   "execution_count": 77,
   "id": "1366683d",
   "metadata": {},
   "outputs": [
    {
     "data": {
      "text/plain": [
       "' '"
      ]
     },
     "execution_count": 77,
     "metadata": {},
     "output_type": "execute_result"
    }
   ],
   "source": [
    "name[7]"
   ]
  },
  {
   "cell_type": "code",
   "execution_count": 78,
   "id": "874aaf19",
   "metadata": {},
   "outputs": [
    {
     "data": {
      "text/plain": [
       "'deep Kum'"
      ]
     },
     "execution_count": 78,
     "metadata": {},
     "output_type": "execute_result"
    }
   ],
   "source": [
    "name[3:11]"
   ]
  },
  {
   "cell_type": "code",
   "execution_count": 79,
   "id": "4efa2d63",
   "metadata": {},
   "outputs": [
    {
     "data": {
      "text/plain": [
       "'Sandeep Kumar'"
      ]
     },
     "execution_count": 79,
     "metadata": {},
     "output_type": "execute_result"
    }
   ],
   "source": [
    "name[::]"
   ]
  },
  {
   "cell_type": "code",
   "execution_count": 80,
   "id": "d5725b9a",
   "metadata": {},
   "outputs": [
    {
     "data": {
      "text/plain": [
       "'Sandeep Kumar'"
      ]
     },
     "execution_count": 80,
     "metadata": {},
     "output_type": "execute_result"
    }
   ],
   "source": [
    "name[0:]"
   ]
  },
  {
   "cell_type": "code",
   "execution_count": 81,
   "id": "44b97aff",
   "metadata": {},
   "outputs": [],
   "source": [
    "address='''Jaipur, Rajasthan'''"
   ]
  },
  {
   "cell_type": "code",
   "execution_count": 82,
   "id": "8f13c595",
   "metadata": {},
   "outputs": [
    {
     "data": {
      "text/plain": [
       "'Jaipur, Rajasthan'"
      ]
     },
     "execution_count": 82,
     "metadata": {},
     "output_type": "execute_result"
    }
   ],
   "source": [
    "address"
   ]
  },
  {
   "cell_type": "code",
   "execution_count": 83,
   "id": "33f26f88",
   "metadata": {},
   "outputs": [],
   "source": [
    "name1=\"Sandeep\"\n",
    "name2=\"Vivek\"\n",
    "name3=\"Shyam\"\n",
    "names=[name1,name2,name3]"
   ]
  },
  {
   "cell_type": "code",
   "execution_count": 84,
   "id": "a17a76d2",
   "metadata": {},
   "outputs": [
    {
     "data": {
      "text/plain": [
       "['Sandeep', 'Vivek', 'Shyam']"
      ]
     },
     "execution_count": 84,
     "metadata": {},
     "output_type": "execute_result"
    }
   ],
   "source": [
    "names"
   ]
  },
  {
   "cell_type": "code",
   "execution_count": 85,
   "id": "36116fcf",
   "metadata": {},
   "outputs": [],
   "source": [
    "names.append(\"Pandey\")"
   ]
  },
  {
   "cell_type": "code",
   "execution_count": 86,
   "id": "61f0e19a",
   "metadata": {},
   "outputs": [
    {
     "data": {
      "text/plain": [
       "['Sandeep', 'Vivek', 'Shyam', 'Pandey']"
      ]
     },
     "execution_count": 86,
     "metadata": {},
     "output_type": "execute_result"
    }
   ],
   "source": [
    "names"
   ]
  },
  {
   "cell_type": "code",
   "execution_count": 87,
   "id": "f606123b",
   "metadata": {},
   "outputs": [],
   "source": [
    "names.insert(1,\"Anuj\")"
   ]
  },
  {
   "cell_type": "code",
   "execution_count": 88,
   "id": "35013670",
   "metadata": {},
   "outputs": [
    {
     "data": {
      "text/plain": [
       "['Sandeep', 'Anuj', 'Vivek', 'Shyam', 'Pandey']"
      ]
     },
     "execution_count": 88,
     "metadata": {},
     "output_type": "execute_result"
    }
   ],
   "source": [
    "names"
   ]
  },
  {
   "cell_type": "code",
   "execution_count": 89,
   "id": "01d770c7",
   "metadata": {},
   "outputs": [],
   "source": [
    "sid=[96674,90161,100365,99695,90765]"
   ]
  },
  {
   "cell_type": "code",
   "execution_count": 90,
   "id": "19fc40cf",
   "metadata": {},
   "outputs": [],
   "source": [
    "details=names+sid"
   ]
  },
  {
   "cell_type": "code",
   "execution_count": 91,
   "id": "b272ac3b",
   "metadata": {},
   "outputs": [
    {
     "data": {
      "text/plain": [
       "['Sandeep',\n",
       " 'Anuj',\n",
       " 'Vivek',\n",
       " 'Shyam',\n",
       " 'Pandey',\n",
       " 96674,\n",
       " 90161,\n",
       " 100365,\n",
       " 99695,\n",
       " 90765]"
      ]
     },
     "execution_count": 91,
     "metadata": {},
     "output_type": "execute_result"
    }
   ],
   "source": [
    "details"
   ]
  },
  {
   "cell_type": "code",
   "execution_count": 92,
   "id": "27d2cf85",
   "metadata": {},
   "outputs": [
    {
     "data": {
      "text/plain": [
       "10"
      ]
     },
     "execution_count": 92,
     "metadata": {},
     "output_type": "execute_result"
    }
   ],
   "source": [
    "len(details)"
   ]
  },
  {
   "cell_type": "code",
   "execution_count": 93,
   "id": "3ba07c65",
   "metadata": {},
   "outputs": [
    {
     "data": {
      "text/plain": [
       "True"
      ]
     },
     "execution_count": 93,
     "metadata": {},
     "output_type": "execute_result"
    }
   ],
   "source": [
    "\"Sandeep\" in details"
   ]
  },
  {
   "cell_type": "code",
   "execution_count": 94,
   "id": "126fea86",
   "metadata": {},
   "outputs": [
    {
     "data": {
      "text/plain": [
       "False"
      ]
     },
     "execution_count": 94,
     "metadata": {},
     "output_type": "execute_result"
    }
   ],
   "source": [
    "\"Kuldeep\" in details"
   ]
  },
  {
   "cell_type": "code",
   "execution_count": 95,
   "id": "5fa66051",
   "metadata": {},
   "outputs": [],
   "source": [
    "base=10\n",
    "height=5\n",
    "area=1/2*(base*height)"
   ]
  },
  {
   "cell_type": "code",
   "execution_count": 96,
   "id": "c738e00d",
   "metadata": {},
   "outputs": [
    {
     "data": {
      "text/plain": [
       "25.0"
      ]
     },
     "execution_count": 96,
     "metadata": {},
     "output_type": "execute_result"
    }
   ],
   "source": [
    "area"
   ]
  },
  {
   "cell_type": "code",
   "execution_count": 97,
   "id": "e4cb2a26",
   "metadata": {},
   "outputs": [
    {
     "name": "stdout",
     "output_type": "stream",
     "text": [
      "3058\n"
     ]
    }
   ],
   "source": [
    "expense=[12,1224,14,1234,14,134,314,112]\n",
    "total=0\n",
    "for i in expense:\n",
    "    total+=i\n",
    "print(total)"
   ]
  },
  {
   "cell_type": "code",
   "execution_count": 98,
   "id": "425556b1",
   "metadata": {},
   "outputs": [
    {
     "name": "stdout",
     "output_type": "stream",
     "text": [
      "expense is:  12\n",
      "expense is:  1224\n",
      "expense is:  14\n",
      "expense is:  1234\n",
      "expense is:  14\n",
      "expense is:  134\n",
      "expense is:  314\n",
      "expense is:  112\n"
     ]
    }
   ],
   "source": [
    "for i in expense:\n",
    "    print(\"expense is: \",i)"
   ]
  },
  {
   "cell_type": "code",
   "execution_count": 99,
   "id": "2f77fedc",
   "metadata": {},
   "outputs": [
    {
     "name": "stdout",
     "output_type": "stream",
     "text": [
      "0\n",
      "1\n",
      "2\n",
      "3\n",
      "4\n",
      "5\n",
      "6\n",
      "7\n",
      "8\n",
      "9\n",
      "10\n"
     ]
    }
   ],
   "source": [
    "for i in range(0,11):\n",
    "    print(i)"
   ]
  },
  {
   "cell_type": "code",
   "execution_count": 100,
   "id": "31fa3c06",
   "metadata": {},
   "outputs": [
    {
     "name": "stdout",
     "output_type": "stream",
     "text": [
      "Month: 1 Expense: 12\n",
      "Month: 2 Expense: 1224\n",
      "Month: 3 Expense: 14\n",
      "Month: 4 Expense: 1234\n",
      "Month: 5 Expense: 14\n",
      "Month: 6 Expense: 134\n",
      "Month: 7 Expense: 314\n",
      "Month: 8 Expense: 112\n"
     ]
    }
   ],
   "source": [
    "for i in range(len(expense)):\n",
    "    print('Month:',(i+1),\"Expense:\",expense[i])"
   ]
  },
  {
   "cell_type": "code",
   "execution_count": 101,
   "id": "8a46e326",
   "metadata": {},
   "outputs": [
    {
     "name": "stdout",
     "output_type": "stream",
     "text": [
      "The number is 1\n",
      "The number is 2\n",
      "The number is 3\n",
      "The number is 4\n",
      "The number is 5\n",
      "The number 6 is divisible by 2 and 3 both\n",
      "The number is 6\n",
      "The number is 7\n",
      "The number is 8\n",
      "The number is 9\n",
      "The number is 10\n",
      "The number is 11\n",
      "The number 12 is divisible by 2 and 3 both\n",
      "The number is 12\n",
      "The number is 13\n",
      "The number is 14\n",
      "The number 15 is divisible by 3 and 5 both\n",
      "The number is 16\n",
      "The number is 17\n",
      "The number 18 is divisible by 2 and 3 both\n",
      "The number is 18\n",
      "The number is 19\n",
      "The number is 20\n",
      "The number is 21\n",
      "The number is 22\n",
      "The number is 23\n",
      "The number 24 is divisible by 2 and 3 both\n",
      "The number is 24\n",
      "The number is 25\n",
      "The number is 26\n",
      "The number is 27\n",
      "The number is 28\n",
      "The number is 29\n",
      "The number 30 is divisible by 2 and 3 both\n",
      "The number 30 is divisible by 3 and 5 both\n",
      "The number is 31\n",
      "The number is 32\n",
      "The number is 33\n",
      "The number is 34\n",
      "The number is 35\n",
      "The number 36 is divisible by 2 and 3 both\n",
      "The number is 36\n",
      "The number is 37\n",
      "The number is 38\n",
      "The number is 39\n",
      "The number is 40\n",
      "The number is 41\n",
      "The number 42 is divisible by 2 and 3 both\n",
      "The number is 42\n",
      "The number is 43\n",
      "The number is 44\n",
      "The number 45 is divisible by 3 and 5 both\n",
      "The number is 46\n",
      "The number is 47\n",
      "The number 48 is divisible by 2 and 3 both\n",
      "The number is 48\n",
      "The number is 49\n"
     ]
    }
   ],
   "source": [
    "for i in range(1,50):\n",
    "    if i%2==0 and i%3==0:\n",
    "        print(f\"The number {i} is divisible by 2 and 3 both\")\n",
    "    if i%3==0 and i%5==0:\n",
    "        print(f\"The number {i} is divisible by 3 and 5 both\")\n",
    "    else:\n",
    "        print(f\"The number is {i}\")"
   ]
  },
  {
   "cell_type": "code",
   "execution_count": 102,
   "id": "b37b3999",
   "metadata": {},
   "outputs": [
    {
     "name": "stdout",
     "output_type": "stream",
     "text": [
      "Requirement already satisfied: numpy in c:\\users\\sande\\anaconda3\\lib\\site-packages (1.23.5)\n"
     ]
    }
   ],
   "source": [
    "!pip install numpy"
   ]
  },
  {
   "cell_type": "code",
   "execution_count": 103,
   "id": "cd63f1f5",
   "metadata": {},
   "outputs": [],
   "source": [
    "import numpy as np"
   ]
  },
  {
   "cell_type": "code",
   "execution_count": 104,
   "id": "87e53910",
   "metadata": {},
   "outputs": [
    {
     "data": {
      "text/plain": [
       "array([1, 2, 3])"
      ]
     },
     "execution_count": 104,
     "metadata": {},
     "output_type": "execute_result"
    }
   ],
   "source": [
    "np.array([1,2,3])"
   ]
  },
  {
   "cell_type": "code",
   "execution_count": 105,
   "id": "0a48b0d3",
   "metadata": {},
   "outputs": [
    {
     "data": {
      "text/plain": [
       "array([1, 2, 3])"
      ]
     },
     "execution_count": 105,
     "metadata": {},
     "output_type": "execute_result"
    }
   ],
   "source": [
    "np.array([1,2,3.7],dtype=int)"
   ]
  },
  {
   "cell_type": "code",
   "execution_count": 106,
   "id": "f5917694",
   "metadata": {},
   "outputs": [
    {
     "data": {
      "text/plain": [
       "array([1. , 2. , 3.7])"
      ]
     },
     "execution_count": 106,
     "metadata": {},
     "output_type": "execute_result"
    }
   ],
   "source": [
    "np.array([1,2,3.7],dtype=float)"
   ]
  },
  {
   "cell_type": "code",
   "execution_count": 107,
   "id": "c7d180f5",
   "metadata": {},
   "outputs": [
    {
     "data": {
      "text/plain": [
       "array([[1, 2, 3],\n",
       "       [4, 5, 6]])"
      ]
     },
     "execution_count": 107,
     "metadata": {},
     "output_type": "execute_result"
    }
   ],
   "source": [
    "np.array([[1,2,3],[4,5,6]])"
   ]
  },
  {
   "cell_type": "code",
   "execution_count": 108,
   "id": "2ef2d276",
   "metadata": {},
   "outputs": [
    {
     "data": {
      "text/plain": [
       "array([['Sandeep', 'Sandeep'],\n",
       "       ['Sandeep', 'Sandeep']], dtype='<U7')"
      ]
     },
     "execution_count": 108,
     "metadata": {},
     "output_type": "execute_result"
    }
   ],
   "source": [
    "np.full((2,2),\"Sandeep\")"
   ]
  },
  {
   "cell_type": "markdown",
   "id": "7e8403ba",
   "metadata": {},
   "source": [
    "##### Creating a `Zero Matrix` with defining their `Dimension`"
   ]
  },
  {
   "cell_type": "code",
   "execution_count": 109,
   "id": "8c39b1f1",
   "metadata": {},
   "outputs": [
    {
     "data": {
      "text/plain": [
       "array([[0, 0],\n",
       "       [0, 0]])"
      ]
     },
     "execution_count": 109,
     "metadata": {},
     "output_type": "execute_result"
    }
   ],
   "source": [
    "np.zeros((2,2),dtype=int)"
   ]
  },
  {
   "cell_type": "markdown",
   "id": "f87a8aec",
   "metadata": {},
   "source": [
    "##### Creating `One-dimensional` array with `1`"
   ]
  },
  {
   "cell_type": "code",
   "execution_count": 110,
   "id": "98430c2c",
   "metadata": {},
   "outputs": [
    {
     "data": {
      "text/plain": [
       "array([1, 1, 1, 1, 1, 1, 1])"
      ]
     },
     "execution_count": 110,
     "metadata": {},
     "output_type": "execute_result"
    }
   ],
   "source": [
    "np.ones((7),dtype=int)"
   ]
  },
  {
   "cell_type": "markdown",
   "id": "2daf9955",
   "metadata": {},
   "source": [
    "##### Creating an `Identity` with defining the `Data Type`"
   ]
  },
  {
   "cell_type": "code",
   "execution_count": 111,
   "id": "2e45c8e1",
   "metadata": {},
   "outputs": [
    {
     "data": {
      "text/plain": [
       "array([[1.+0.j, 0.+0.j, 0.+0.j, 0.+0.j],\n",
       "       [0.+0.j, 1.+0.j, 0.+0.j, 0.+0.j],\n",
       "       [0.+0.j, 0.+0.j, 1.+0.j, 0.+0.j],\n",
       "       [0.+0.j, 0.+0.j, 0.+0.j, 1.+0.j]])"
      ]
     },
     "execution_count": 111,
     "metadata": {},
     "output_type": "execute_result"
    }
   ],
   "source": [
    "np.eye((4),dtype=complex)"
   ]
  },
  {
   "cell_type": "code",
   "execution_count": 113,
   "id": "cb5f2d79",
   "metadata": {},
   "outputs": [
    {
     "name": "stdout",
     "output_type": "stream",
     "text": [
      "First Number23\n",
      "Second Number27\n",
      "2327\n"
     ]
    }
   ],
   "source": [
    "number=input(\"First Number\") #23\n",
    "number2=input(\"Second Number\") #27\n",
    "print(number+number2)"
   ]
  },
  {
   "cell_type": "markdown",
   "id": "3db4a791",
   "metadata": {},
   "source": [
    "##### Creating an `identity` Matrix"
   ]
  },
  {
   "cell_type": "code",
   "execution_count": 114,
   "id": "72db575a",
   "metadata": {},
   "outputs": [
    {
     "data": {
      "text/plain": [
       "array([[1., 0., 0., 0.],\n",
       "       [0., 1., 0., 0.],\n",
       "       [0., 0., 1., 0.],\n",
       "       [0., 0., 0., 1.]])"
      ]
     },
     "execution_count": 114,
     "metadata": {},
     "output_type": "execute_result"
    }
   ],
   "source": [
    "import numpy as np\n",
    "np.eye((4),dtype=float)"
   ]
  },
  {
   "cell_type": "markdown",
   "id": "6302b9bf",
   "metadata": {},
   "source": [
    "##### Creating a matrix with all `Zero Valued Element`"
   ]
  },
  {
   "cell_type": "code",
   "execution_count": 120,
   "id": "1d2823ed",
   "metadata": {},
   "outputs": [],
   "source": [
    "mat=np.zeros((3,3),dtype=float)"
   ]
  },
  {
   "cell_type": "code",
   "execution_count": 121,
   "id": "f4d6a05b",
   "metadata": {},
   "outputs": [
    {
     "data": {
      "text/plain": [
       "array([[0., 0., 0.],\n",
       "       [0., 0., 0.],\n",
       "       [0., 0., 0.]])"
      ]
     },
     "execution_count": 121,
     "metadata": {},
     "output_type": "execute_result"
    }
   ],
   "source": [
    "mat"
   ]
  },
  {
   "cell_type": "markdown",
   "id": "e67b52ae",
   "metadata": {},
   "source": [
    "##### Returning the `Dimension` of the  Matrix"
   ]
  },
  {
   "cell_type": "code",
   "execution_count": 124,
   "id": "56fd7f67",
   "metadata": {},
   "outputs": [
    {
     "data": {
      "text/plain": [
       "2"
      ]
     },
     "execution_count": 124,
     "metadata": {},
     "output_type": "execute_result"
    }
   ],
   "source": [
    "np.ndim(mat)"
   ]
  },
  {
   "cell_type": "code",
   "execution_count": 125,
   "id": "edf43cd4",
   "metadata": {},
   "outputs": [
    {
     "data": {
      "text/plain": [
       "23.2432"
      ]
     },
     "execution_count": 125,
     "metadata": {},
     "output_type": "execute_result"
    }
   ],
   "source": [
    "np.abs(23.2432)"
   ]
  },
  {
   "cell_type": "markdown",
   "id": "8dc8320b",
   "metadata": {},
   "source": [
    "##### Returning the `Absolute Value`"
   ]
  },
  {
   "cell_type": "code",
   "execution_count": 126,
   "id": "dfb6da5b",
   "metadata": {},
   "outputs": [
    {
     "data": {
      "text/plain": [
       "23.2432"
      ]
     },
     "execution_count": 126,
     "metadata": {},
     "output_type": "execute_result"
    }
   ],
   "source": [
    "np.absolute(23.2432)"
   ]
  },
  {
   "cell_type": "markdown",
   "id": "1cc49f36",
   "metadata": {},
   "source": [
    "##### Adding two element"
   ]
  },
  {
   "cell_type": "code",
   "execution_count": 139,
   "id": "bb68e995",
   "metadata": {},
   "outputs": [
    {
     "data": {
      "text/plain": [
       "257"
      ]
     },
     "execution_count": 139,
     "metadata": {},
     "output_type": "execute_result"
    }
   ],
   "source": [
    "np.add(234,23)"
   ]
  },
  {
   "cell_type": "markdown",
   "id": "d56af008",
   "metadata": {},
   "source": [
    "##### Calculating the `max` element in a  List"
   ]
  },
  {
   "cell_type": "code",
   "execution_count": 133,
   "id": "0b027fac",
   "metadata": {},
   "outputs": [
    {
     "data": {
      "text/plain": [
       "1234"
      ]
     },
     "execution_count": 133,
     "metadata": {},
     "output_type": "execute_result"
    }
   ],
   "source": [
    "np.amax([12,14,1234])"
   ]
  },
  {
   "cell_type": "markdown",
   "id": "d878965a",
   "metadata": {},
   "source": [
    "##### Calculating `average` of List"
   ]
  },
  {
   "cell_type": "code",
   "execution_count": 135,
   "id": "e4e84eb4",
   "metadata": {},
   "outputs": [
    {
     "data": {
      "text/plain": [
       "6329.0"
      ]
     },
     "execution_count": 135,
     "metadata": {},
     "output_type": "execute_result"
    }
   ],
   "source": [
    "np.average([123,123,41234,124,1234,1234,231])"
   ]
  },
  {
   "cell_type": "code",
   "execution_count": 141,
   "id": "e3e7dc39",
   "metadata": {},
   "outputs": [],
   "source": [
    "d={\"Sandeep\":96674,\"Pandey\":90765,\"Vivek\":100365}"
   ]
  },
  {
   "cell_type": "code",
   "execution_count": 142,
   "id": "05db0afa",
   "metadata": {},
   "outputs": [
    {
     "data": {
      "text/plain": [
       "{'Sandeep': 96674, 'Pandey': 90765, 'Vivek': 100365}"
      ]
     },
     "execution_count": 142,
     "metadata": {},
     "output_type": "execute_result"
    }
   ],
   "source": [
    "d"
   ]
  },
  {
   "cell_type": "code",
   "execution_count": 145,
   "id": "97de6069",
   "metadata": {},
   "outputs": [
    {
     "data": {
      "text/plain": [
       "dict_items([('Sandeep', 96674), ('Pandey', 90765), ('Vivek', 100365)])"
      ]
     },
     "execution_count": 145,
     "metadata": {},
     "output_type": "execute_result"
    }
   ],
   "source": [
    "d.items()"
   ]
  },
  {
   "cell_type": "code",
   "execution_count": 147,
   "id": "40ff0ea9",
   "metadata": {},
   "outputs": [
    {
     "data": {
      "text/plain": [
       "96674"
      ]
     },
     "execution_count": 147,
     "metadata": {},
     "output_type": "execute_result"
    }
   ],
   "source": [
    "d['Sandeep']"
   ]
  },
  {
   "cell_type": "code",
   "execution_count": 148,
   "id": "4c28cdc9",
   "metadata": {},
   "outputs": [],
   "source": [
    "d['Shyam']=99695"
   ]
  },
  {
   "cell_type": "code",
   "execution_count": 149,
   "id": "31d05029",
   "metadata": {},
   "outputs": [
    {
     "data": {
      "text/plain": [
       "{'Sandeep': 96674, 'Pandey': 90765, 'Vivek': 100365, 'Shyam': 99695}"
      ]
     },
     "execution_count": 149,
     "metadata": {},
     "output_type": "execute_result"
    }
   ],
   "source": [
    "d"
   ]
  },
  {
   "cell_type": "code",
   "execution_count": 150,
   "id": "e8541fb8",
   "metadata": {},
   "outputs": [],
   "source": [
    "del d[\"Vivek\"]"
   ]
  },
  {
   "cell_type": "code",
   "execution_count": 151,
   "id": "f5cdfca4",
   "metadata": {},
   "outputs": [
    {
     "data": {
      "text/plain": [
       "{'Sandeep': 96674, 'Pandey': 90765, 'Shyam': 99695}"
      ]
     },
     "execution_count": 151,
     "metadata": {},
     "output_type": "execute_result"
    }
   ],
   "source": [
    "d"
   ]
  },
  {
   "cell_type": "code",
   "execution_count": 152,
   "id": "b15b638d",
   "metadata": {},
   "outputs": [
    {
     "name": "stdout",
     "output_type": "stream",
     "text": [
      "key: Sandeep Value: 96674\n",
      "key: Pandey Value: 90765\n",
      "key: Shyam Value: 99695\n"
     ]
    }
   ],
   "source": [
    "for key in d:\n",
    "    print(\"key:\",key,\"Value:\",d[key])"
   ]
  },
  {
   "cell_type": "code",
   "execution_count": 153,
   "id": "85d88cbf",
   "metadata": {},
   "outputs": [
    {
     "name": "stdout",
     "output_type": "stream",
     "text": [
      "Key: Shyam Value: 99695\n",
      "Key: Shyam Value: 99695\n",
      "Key: Shyam Value: 99695\n"
     ]
    }
   ],
   "source": [
    "for k,v in d.items():\n",
    "    print('Key:',key,\"Value:\",d[key])"
   ]
  },
  {
   "cell_type": "code",
   "execution_count": 155,
   "id": "61916c5c",
   "metadata": {},
   "outputs": [
    {
     "data": {
      "text/plain": [
       "True"
      ]
     },
     "execution_count": 155,
     "metadata": {},
     "output_type": "execute_result"
    }
   ],
   "source": [
    "\"Sandeep\"in d"
   ]
  },
  {
   "cell_type": "code",
   "execution_count": 157,
   "id": "ea8079c5",
   "metadata": {},
   "outputs": [],
   "source": [
    "point=(1,2,34,4,1)"
   ]
  },
  {
   "cell_type": "code",
   "execution_count": 158,
   "id": "1003a2a8",
   "metadata": {},
   "outputs": [
    {
     "data": {
      "text/plain": [
       "2"
      ]
     },
     "execution_count": 158,
     "metadata": {},
     "output_type": "execute_result"
    }
   ],
   "source": [
    "point[1]"
   ]
  },
  {
   "cell_type": "code",
   "execution_count": 159,
   "id": "bfe73bc3",
   "metadata": {},
   "outputs": [
    {
     "data": {
      "text/plain": [
       "1492472981808"
      ]
     },
     "execution_count": 159,
     "metadata": {},
     "output_type": "execute_result"
    }
   ],
   "source": [
    "id(point[0])"
   ]
  },
  {
   "cell_type": "code",
   "execution_count": 160,
   "id": "abb90de4",
   "metadata": {},
   "outputs": [
    {
     "data": {
      "text/plain": [
       "1492472981808"
      ]
     },
     "execution_count": 160,
     "metadata": {},
     "output_type": "execute_result"
    }
   ],
   "source": [
    "id(point[4])"
   ]
  },
  {
   "cell_type": "code",
   "execution_count": 161,
   "id": "948ac092",
   "metadata": {},
   "outputs": [
    {
     "data": {
      "text/plain": [
       "1492472981904"
      ]
     },
     "execution_count": 161,
     "metadata": {},
     "output_type": "execute_result"
    }
   ],
   "source": [
    "id(point[3])"
   ]
  },
  {
   "cell_type": "code",
   "execution_count": 162,
   "id": "19ab6c44",
   "metadata": {},
   "outputs": [],
   "source": [
    "import math"
   ]
  },
  {
   "cell_type": "code",
   "execution_count": 163,
   "id": "d1e465c3",
   "metadata": {},
   "outputs": [
    {
     "data": {
      "text/plain": [
       "1.4142135623730951"
      ]
     },
     "execution_count": 163,
     "metadata": {},
     "output_type": "execute_result"
    }
   ],
   "source": [
    "math.sqrt(2)"
   ]
  },
  {
   "cell_type": "code",
   "execution_count": 164,
   "id": "e4b0f021",
   "metadata": {},
   "outputs": [
    {
     "data": {
      "text/plain": [
       "['__doc__',\n",
       " '__loader__',\n",
       " '__name__',\n",
       " '__package__',\n",
       " '__spec__',\n",
       " 'acos',\n",
       " 'acosh',\n",
       " 'asin',\n",
       " 'asinh',\n",
       " 'atan',\n",
       " 'atan2',\n",
       " 'atanh',\n",
       " 'ceil',\n",
       " 'comb',\n",
       " 'copysign',\n",
       " 'cos',\n",
       " 'cosh',\n",
       " 'degrees',\n",
       " 'dist',\n",
       " 'e',\n",
       " 'erf',\n",
       " 'erfc',\n",
       " 'exp',\n",
       " 'expm1',\n",
       " 'fabs',\n",
       " 'factorial',\n",
       " 'floor',\n",
       " 'fmod',\n",
       " 'frexp',\n",
       " 'fsum',\n",
       " 'gamma',\n",
       " 'gcd',\n",
       " 'hypot',\n",
       " 'inf',\n",
       " 'isclose',\n",
       " 'isfinite',\n",
       " 'isinf',\n",
       " 'isnan',\n",
       " 'isqrt',\n",
       " 'lcm',\n",
       " 'ldexp',\n",
       " 'lgamma',\n",
       " 'log',\n",
       " 'log10',\n",
       " 'log1p',\n",
       " 'log2',\n",
       " 'modf',\n",
       " 'nan',\n",
       " 'nextafter',\n",
       " 'perm',\n",
       " 'pi',\n",
       " 'pow',\n",
       " 'prod',\n",
       " 'radians',\n",
       " 'remainder',\n",
       " 'sin',\n",
       " 'sinh',\n",
       " 'sqrt',\n",
       " 'tan',\n",
       " 'tanh',\n",
       " 'tau',\n",
       " 'trunc',\n",
       " 'ulp']"
      ]
     },
     "execution_count": 164,
     "metadata": {},
     "output_type": "execute_result"
    }
   ],
   "source": [
    "dir(math)"
   ]
  },
  {
   "cell_type": "code",
   "execution_count": 165,
   "id": "70d8f4c7",
   "metadata": {},
   "outputs": [],
   "source": [
    "import calendar"
   ]
  },
  {
   "cell_type": "code",
   "execution_count": 167,
   "id": "a0331e16",
   "metadata": {},
   "outputs": [],
   "source": [
    "cal=calendar.month(2016,1)"
   ]
  },
  {
   "cell_type": "code",
   "execution_count": 168,
   "id": "3987fe9c",
   "metadata": {},
   "outputs": [
    {
     "data": {
      "text/plain": [
       "'    January 2016\\nMo Tu We Th Fr Sa Su\\n             1  2  3\\n 4  5  6  7  8  9 10\\n11 12 13 14 15 16 17\\n18 19 20 21 22 23 24\\n25 26 27 28 29 30 31\\n'"
      ]
     },
     "execution_count": 168,
     "metadata": {},
     "output_type": "execute_result"
    }
   ],
   "source": [
    "cal"
   ]
  },
  {
   "cell_type": "code",
   "execution_count": 169,
   "id": "2089bfb9",
   "metadata": {},
   "outputs": [
    {
     "data": {
      "text/plain": [
       "['Calendar',\n",
       " 'EPOCH',\n",
       " 'FRIDAY',\n",
       " 'February',\n",
       " 'HTMLCalendar',\n",
       " 'IllegalMonthError',\n",
       " 'IllegalWeekdayError',\n",
       " 'January',\n",
       " 'LocaleHTMLCalendar',\n",
       " 'LocaleTextCalendar',\n",
       " 'MONDAY',\n",
       " 'SATURDAY',\n",
       " 'SUNDAY',\n",
       " 'THURSDAY',\n",
       " 'TUESDAY',\n",
       " 'TextCalendar',\n",
       " 'WEDNESDAY',\n",
       " '_EPOCH_ORD',\n",
       " '__all__',\n",
       " '__builtins__',\n",
       " '__cached__',\n",
       " '__doc__',\n",
       " '__file__',\n",
       " '__loader__',\n",
       " '__name__',\n",
       " '__package__',\n",
       " '__spec__',\n",
       " '_colwidth',\n",
       " '_locale',\n",
       " '_localized_day',\n",
       " '_localized_month',\n",
       " '_monthlen',\n",
       " '_nextmonth',\n",
       " '_prevmonth',\n",
       " '_spacing',\n",
       " 'c',\n",
       " 'calendar',\n",
       " 'datetime',\n",
       " 'day_abbr',\n",
       " 'day_name',\n",
       " 'different_locale',\n",
       " 'error',\n",
       " 'firstweekday',\n",
       " 'format',\n",
       " 'formatstring',\n",
       " 'isleap',\n",
       " 'leapdays',\n",
       " 'main',\n",
       " 'mdays',\n",
       " 'month',\n",
       " 'month_abbr',\n",
       " 'month_name',\n",
       " 'monthcalendar',\n",
       " 'monthrange',\n",
       " 'prcal',\n",
       " 'prmonth',\n",
       " 'prweek',\n",
       " 'repeat',\n",
       " 'setfirstweekday',\n",
       " 'sys',\n",
       " 'timegm',\n",
       " 'week',\n",
       " 'weekday',\n",
       " 'weekheader']"
      ]
     },
     "execution_count": 169,
     "metadata": {},
     "output_type": "execute_result"
    }
   ],
   "source": [
    "dir(calendar)"
   ]
  },
  {
   "cell_type": "code",
   "execution_count": 175,
   "id": "c076c115",
   "metadata": {},
   "outputs": [],
   "source": [
    "book={}\n",
    "book[\"Sandeep\"]={\n",
    "    'name':\"Sandeep\",\n",
    "    'SID':96674,\n",
    "    'Course':\"B.Tech\"\n",
    "}\n",
    "book[\"Pandey\"]={\n",
    "    'name':\"Pandey\",\n",
    "    'SID':90765,\n",
    "    'Course':\"B.Tech\"\n",
    "}\n",
    "book[\"Vivek\"]={\n",
    "    'name':\"Vivek\",\n",
    "    'SID':100365,\n",
    "    'Course':\"B.Tech\"\n",
    "}\n",
    "book[\"Shyam\"]={\n",
    "    'name':\"Shyam\",\n",
    "    'SID':99695,\n",
    "    'Course':\"B.Tech\"\n",
    "}\n",
    "book[\"Ujjawal\"]={\n",
    "    'name':\"Ujjawal\",\n",
    "    'SID':100087,\n",
    "    'Course':\"B.Tech\"\n",
    "}\n",
    "book[\"Rahul\"]={\n",
    "    'name':\"Rahul\",\n",
    "    'SID':90163,\n",
    "    'Course':\"B.Tech\"\n",
    "}\n",
    "book[\"Anuj\"]={\n",
    "    'name':\"Anuj\",\n",
    "    'SID':90161,\n",
    "    'Course':\"B.Tech\"\n",
    "}"
   ]
  },
  {
   "cell_type": "code",
   "execution_count": 176,
   "id": "bb9462db",
   "metadata": {},
   "outputs": [],
   "source": [
    "import json"
   ]
  },
  {
   "cell_type": "code",
   "execution_count": 177,
   "id": "22d2e31e",
   "metadata": {},
   "outputs": [],
   "source": [
    "s=json.dumps(book)"
   ]
  },
  {
   "cell_type": "code",
   "execution_count": 178,
   "id": "96e6eb09",
   "metadata": {},
   "outputs": [
    {
     "data": {
      "text/plain": [
       "'{\"Sandeep\": {\"name\": \"Sandeep\", \"SID\": 96674, \"Course\": \"B.Tech\"}, \"Pandey\": {\"name\": \"Pandey\", \"SID\": 90765, \"Course\": \"B.Tech\"}, \"Vivek\": {\"name\": \"Vivek\", \"SID\": 100365, \"Course\": \"B.Tech\"}, \"Shyam\": {\"name\": \"Shyam\", \"SID\": 99695, \"Course\": \"B.Tech\"}, \"Ujjawal\": {\"name\": \"Ujjawal\", \"SID\": 100087, \"Course\": \"B.Tech\"}, \"Rahul\": {\"name\": \"Rahul\", \"SID\": 90163, \"Course\": \"B.Tech\"}, \"Anuj\": {\"name\": \"Anuj\", \"SID\": 90161, \"Course\": \"B.Tech\"}}'"
      ]
     },
     "execution_count": 178,
     "metadata": {},
     "output_type": "execute_result"
    }
   ],
   "source": [
    "s"
   ]
  },
  {
   "cell_type": "code",
   "execution_count": 179,
   "id": "b7e7712b",
   "metadata": {},
   "outputs": [],
   "source": [
    "with open(\"book.txt\",'w') as f:\n",
    "    f.write(s)"
   ]
  },
  {
   "cell_type": "code",
   "execution_count": 181,
   "id": "5b52333a",
   "metadata": {},
   "outputs": [],
   "source": [
    "f=open('book.txt','r')"
   ]
  },
  {
   "cell_type": "code",
   "execution_count": 182,
   "id": "ca7128f9",
   "metadata": {},
   "outputs": [],
   "source": [
    "s=f.read()"
   ]
  },
  {
   "cell_type": "code",
   "execution_count": 183,
   "id": "9780116e",
   "metadata": {},
   "outputs": [
    {
     "data": {
      "text/plain": [
       "'{\"Sandeep\": {\"name\": \"Sandeep\", \"SID\": 96674, \"Course\": \"B.Tech\"}, \"Pandey\": {\"name\": \"Pandey\", \"SID\": 90765, \"Course\": \"B.Tech\"}, \"Vivek\": {\"name\": \"Vivek\", \"SID\": 100365, \"Course\": \"B.Tech\"}, \"Shyam\": {\"name\": \"Shyam\", \"SID\": 99695, \"Course\": \"B.Tech\"}, \"Ujjawal\": {\"name\": \"Ujjawal\", \"SID\": 100087, \"Course\": \"B.Tech\"}, \"Rahul\": {\"name\": \"Rahul\", \"SID\": 90163, \"Course\": \"B.Tech\"}, \"Anuj\": {\"name\": \"Anuj\", \"SID\": 90161, \"Course\": \"B.Tech\"}}'"
      ]
     },
     "execution_count": 183,
     "metadata": {},
     "output_type": "execute_result"
    }
   ],
   "source": [
    "s"
   ]
  },
  {
   "cell_type": "code",
   "execution_count": 184,
   "id": "6ada0e0e",
   "metadata": {},
   "outputs": [],
   "source": [
    "import json\n",
    "record=json.loads(s)"
   ]
  },
  {
   "cell_type": "code",
   "execution_count": 185,
   "id": "a68456eb",
   "metadata": {},
   "outputs": [
    {
     "data": {
      "text/plain": [
       "{'Sandeep': {'name': 'Sandeep', 'SID': 96674, 'Course': 'B.Tech'},\n",
       " 'Pandey': {'name': 'Pandey', 'SID': 90765, 'Course': 'B.Tech'},\n",
       " 'Vivek': {'name': 'Vivek', 'SID': 100365, 'Course': 'B.Tech'},\n",
       " 'Shyam': {'name': 'Shyam', 'SID': 99695, 'Course': 'B.Tech'},\n",
       " 'Ujjawal': {'name': 'Ujjawal', 'SID': 100087, 'Course': 'B.Tech'},\n",
       " 'Rahul': {'name': 'Rahul', 'SID': 90163, 'Course': 'B.Tech'},\n",
       " 'Anuj': {'name': 'Anuj', 'SID': 90161, 'Course': 'B.Tech'}}"
      ]
     },
     "execution_count": 185,
     "metadata": {},
     "output_type": "execute_result"
    }
   ],
   "source": [
    "record"
   ]
  },
  {
   "cell_type": "code",
   "execution_count": 186,
   "id": "ecae236a",
   "metadata": {},
   "outputs": [
    {
     "data": {
      "text/plain": [
       "dict"
      ]
     },
     "execution_count": 186,
     "metadata": {},
     "output_type": "execute_result"
    }
   ],
   "source": [
    "type(record)"
   ]
  },
  {
   "cell_type": "code",
   "execution_count": 187,
   "id": "573186b1",
   "metadata": {},
   "outputs": [
    {
     "data": {
      "text/plain": [
       "{'name': 'Sandeep', 'SID': 96674, 'Course': 'B.Tech'}"
      ]
     },
     "execution_count": 187,
     "metadata": {},
     "output_type": "execute_result"
    }
   ],
   "source": [
    "record[\"Sandeep\"]"
   ]
  },
  {
   "cell_type": "code",
   "execution_count": 189,
   "id": "1621a7fa",
   "metadata": {},
   "outputs": [
    {
     "name": "stdout",
     "output_type": "stream",
     "text": [
      "{'name': 'Sandeep', 'SID': 96674, 'Course': 'B.Tech'}\n",
      "{'name': 'Pandey', 'SID': 90765, 'Course': 'B.Tech'}\n",
      "{'name': 'Vivek', 'SID': 100365, 'Course': 'B.Tech'}\n",
      "{'name': 'Shyam', 'SID': 99695, 'Course': 'B.Tech'}\n",
      "{'name': 'Ujjawal', 'SID': 100087, 'Course': 'B.Tech'}\n",
      "{'name': 'Rahul', 'SID': 90163, 'Course': 'B.Tech'}\n",
      "{'name': 'Anuj', 'SID': 90161, 'Course': 'B.Tech'}\n"
     ]
    }
   ],
   "source": [
    "for person in record:\n",
    "    print(record[person])"
   ]
  },
  {
   "cell_type": "code",
   "execution_count": 190,
   "id": "bdf71ab8",
   "metadata": {},
   "outputs": [
    {
     "data": {
      "text/plain": [
       "'__main__'"
      ]
     },
     "execution_count": 190,
     "metadata": {},
     "output_type": "execute_result"
    }
   ],
   "source": [
    "__name__"
   ]
  },
  {
   "cell_type": "code",
   "execution_count": 192,
   "id": "eefdda30",
   "metadata": {},
   "outputs": [
    {
     "name": "stdout",
     "output_type": "stream",
     "text": [
      "area: 100.0\n"
     ]
    }
   ],
   "source": [
    "def calculate_area(base,height):\n",
    "    return 1/2*(base*height)\n",
    "\n",
    "\n",
    "if __name__==\"__main__\":\n",
    "    a=calculate_area(10,20)\n",
    "    print('area:',a)"
   ]
  },
  {
   "cell_type": "code",
   "execution_count": 194,
   "id": "458fe36b",
   "metadata": {},
   "outputs": [
    {
     "ename": "ZeroDivisionError",
     "evalue": "division by zero",
     "output_type": "error",
     "traceback": [
      "\u001b[1;31m---------------------------------------------------------------------------\u001b[0m",
      "\u001b[1;31mZeroDivisionError\u001b[0m                         Traceback (most recent call last)",
      "Input \u001b[1;32mIn [194]\u001b[0m, in \u001b[0;36m<cell line: 2>\u001b[1;34m()\u001b[0m\n\u001b[0;32m      1\u001b[0m \u001b[38;5;66;03m#raised error\u001b[39;00m\n\u001b[1;32m----> 2\u001b[0m \u001b[38;5;241;43m1\u001b[39;49m\u001b[38;5;241;43m/\u001b[39;49m\u001b[38;5;241;43m0\u001b[39;49m\n",
      "\u001b[1;31mZeroDivisionError\u001b[0m: division by zero"
     ]
    }
   ],
   "source": [
    "#raised error\n",
    "1/0"
   ]
  },
  {
   "cell_type": "code",
   "execution_count": 196,
   "id": "a6f7d25f",
   "metadata": {},
   "outputs": [
    {
     "name": "stdout",
     "output_type": "stream",
     "text": [
      "Enter First number10\n",
      "Enter Second Number2\n"
     ]
    },
    {
     "ename": "TypeError",
     "evalue": "unsupported operand type(s) for /: 'str' and 'str'",
     "output_type": "error",
     "traceback": [
      "\u001b[1;31m---------------------------------------------------------------------------\u001b[0m",
      "\u001b[1;31mTypeError\u001b[0m                                 Traceback (most recent call last)",
      "Input \u001b[1;32mIn [196]\u001b[0m, in \u001b[0;36m<cell line: 3>\u001b[1;34m()\u001b[0m\n\u001b[0;32m      1\u001b[0m num1\u001b[38;5;241m=\u001b[39m\u001b[38;5;28minput\u001b[39m(\u001b[38;5;124m\"\u001b[39m\u001b[38;5;124mEnter First number\u001b[39m\u001b[38;5;124m\"\u001b[39m)\n\u001b[0;32m      2\u001b[0m num2\u001b[38;5;241m=\u001b[39m\u001b[38;5;28minput\u001b[39m(\u001b[38;5;124m\"\u001b[39m\u001b[38;5;124mEnter Second Number\u001b[39m\u001b[38;5;124m\"\u001b[39m)\n\u001b[1;32m----> 3\u001b[0m \u001b[43mnum1\u001b[49m\u001b[38;5;241;43m/\u001b[39;49m\u001b[43mnum2\u001b[49m\n",
      "\u001b[1;31mTypeError\u001b[0m: unsupported operand type(s) for /: 'str' and 'str'"
     ]
    }
   ],
   "source": [
    "#reaised a type error\n",
    "num1=input(\"Enter First number\")\n",
    "num2=input(\"Enter Second Number\")\n",
    "num1/num2"
   ]
  },
  {
   "cell_type": "code",
   "execution_count": 197,
   "id": "c90375ff",
   "metadata": {},
   "outputs": [],
   "source": [
    "class Human:\n",
    "    def __init__(self,name):\n",
    "        self.name=name\n",
    "    def do_work(self):\n",
    "        if self.name==\"Sandeep\":\n",
    "            print(self.name,\"Student\")\n",
    "        else:\n",
    "            print(\"Other Occupation\")"
   ]
  },
  {
   "cell_type": "code",
   "execution_count": 198,
   "id": "05d1ecd6",
   "metadata": {},
   "outputs": [],
   "source": [
    "sandy=Human(\"Sandeep\")"
   ]
  },
  {
   "cell_type": "code",
   "execution_count": 200,
   "id": "79547b1a",
   "metadata": {},
   "outputs": [
    {
     "name": "stdout",
     "output_type": "stream",
     "text": [
      "Sandeep Student\n"
     ]
    }
   ],
   "source": [
    "sandy.do_work()"
   ]
  },
  {
   "cell_type": "code",
   "execution_count": 201,
   "id": "34f35851",
   "metadata": {},
   "outputs": [
    {
     "data": {
      "text/plain": [
       "'Sandeep'"
      ]
     },
     "execution_count": 201,
     "metadata": {},
     "output_type": "execute_result"
    }
   ],
   "source": [
    "sandy.name"
   ]
  },
  {
   "cell_type": "code",
   "execution_count": 202,
   "id": "6019bd63",
   "metadata": {},
   "outputs": [],
   "source": [
    "vivek=Human(\"Vivek\")"
   ]
  },
  {
   "cell_type": "code",
   "execution_count": 204,
   "id": "905c12e4",
   "metadata": {},
   "outputs": [
    {
     "name": "stdout",
     "output_type": "stream",
     "text": [
      "Other Occupation\n"
     ]
    }
   ],
   "source": [
    "vivek.do_work()"
   ]
  },
  {
   "cell_type": "code",
   "execution_count": 205,
   "id": "0a786004",
   "metadata": {},
   "outputs": [
    {
     "data": {
      "text/plain": [
       "'Vivek'"
      ]
     },
     "execution_count": 205,
     "metadata": {},
     "output_type": "execute_result"
    }
   ],
   "source": [
    "vivek.name"
   ]
  },
  {
   "cell_type": "code",
   "execution_count": 206,
   "id": "fa12a8c1",
   "metadata": {},
   "outputs": [],
   "source": [
    "a=[1,2,2,3,435,6,67,7,6,231,234]"
   ]
  },
  {
   "cell_type": "code",
   "execution_count": 212,
   "id": "c336c102",
   "metadata": {},
   "outputs": [
    {
     "data": {
      "text/plain": [
       "[1, 2, 2, 3, 6, 6, 7, 67, 231, 234, 435]"
      ]
     },
     "execution_count": 212,
     "metadata": {},
     "output_type": "execute_result"
    }
   ],
   "source": [
    "a"
   ]
  },
  {
   "cell_type": "code",
   "execution_count": 213,
   "id": "f83ee2d4",
   "metadata": {},
   "outputs": [
    {
     "name": "stdout",
     "output_type": "stream",
     "text": [
      "1\n",
      "2\n",
      "2\n",
      "3\n",
      "6\n",
      "6\n",
      "7\n",
      "67\n",
      "231\n",
      "234\n",
      "435\n"
     ]
    }
   ],
   "source": [
    "for i in a:\n",
    "    print(i)"
   ]
  },
  {
   "cell_type": "code",
   "execution_count": 218,
   "id": "32fa6de5",
   "metadata": {},
   "outputs": [],
   "source": [
    "a.sort()"
   ]
  },
  {
   "cell_type": "code",
   "execution_count": 220,
   "id": "f0ce4ddb",
   "metadata": {},
   "outputs": [
    {
     "data": {
      "text/plain": [
       "['__add__',\n",
       " '__class__',\n",
       " '__class_getitem__',\n",
       " '__contains__',\n",
       " '__delattr__',\n",
       " '__delitem__',\n",
       " '__dir__',\n",
       " '__doc__',\n",
       " '__eq__',\n",
       " '__format__',\n",
       " '__ge__',\n",
       " '__getattribute__',\n",
       " '__getitem__',\n",
       " '__gt__',\n",
       " '__hash__',\n",
       " '__iadd__',\n",
       " '__imul__',\n",
       " '__init__',\n",
       " '__init_subclass__',\n",
       " '__iter__',\n",
       " '__le__',\n",
       " '__len__',\n",
       " '__lt__',\n",
       " '__mul__',\n",
       " '__ne__',\n",
       " '__new__',\n",
       " '__reduce__',\n",
       " '__reduce_ex__',\n",
       " '__repr__',\n",
       " '__reversed__',\n",
       " '__rmul__',\n",
       " '__setattr__',\n",
       " '__setitem__',\n",
       " '__sizeof__',\n",
       " '__str__',\n",
       " '__subclasshook__',\n",
       " 'append',\n",
       " 'clear',\n",
       " 'copy',\n",
       " 'count',\n",
       " 'extend',\n",
       " 'index',\n",
       " 'insert',\n",
       " 'pop',\n",
       " 'remove',\n",
       " 'reverse',\n",
       " 'sort']"
      ]
     },
     "execution_count": 220,
     "metadata": {},
     "output_type": "execute_result"
    }
   ],
   "source": [
    "dir(a)"
   ]
  },
  {
   "cell_type": "code",
   "execution_count": 221,
   "id": "a76bccb0",
   "metadata": {},
   "outputs": [],
   "source": [
    "itr=iter(a)"
   ]
  },
  {
   "cell_type": "code",
   "execution_count": 226,
   "id": "d716cdac",
   "metadata": {},
   "outputs": [
    {
     "data": {
      "text/plain": [
       "<list_iterator at 0x15b24a8dd60>"
      ]
     },
     "execution_count": 226,
     "metadata": {},
     "output_type": "execute_result"
    }
   ],
   "source": [
    "itr"
   ]
  },
  {
   "cell_type": "code",
   "execution_count": 227,
   "id": "fb0a8c45",
   "metadata": {},
   "outputs": [
    {
     "data": {
      "text/plain": [
       "1"
      ]
     },
     "execution_count": 227,
     "metadata": {},
     "output_type": "execute_result"
    }
   ],
   "source": [
    "next(itr)"
   ]
  },
  {
   "cell_type": "code",
   "execution_count": 228,
   "id": "6c559704",
   "metadata": {},
   "outputs": [
    {
     "data": {
      "text/plain": [
       "2"
      ]
     },
     "execution_count": 228,
     "metadata": {},
     "output_type": "execute_result"
    }
   ],
   "source": [
    "next(itr)"
   ]
  },
  {
   "cell_type": "code",
   "execution_count": 229,
   "id": "27dcce6e",
   "metadata": {},
   "outputs": [],
   "source": [
    "itr2=reversed(a)"
   ]
  },
  {
   "cell_type": "code",
   "execution_count": 230,
   "id": "d9e6c0c7",
   "metadata": {},
   "outputs": [
    {
     "data": {
      "text/plain": [
       "<list_reverseiterator at 0x15b249a4eb0>"
      ]
     },
     "execution_count": 230,
     "metadata": {},
     "output_type": "execute_result"
    }
   ],
   "source": [
    "itr2"
   ]
  },
  {
   "cell_type": "code",
   "execution_count": 231,
   "id": "f9feebec",
   "metadata": {},
   "outputs": [
    {
     "data": {
      "text/plain": [
       "435"
      ]
     },
     "execution_count": 231,
     "metadata": {},
     "output_type": "execute_result"
    }
   ],
   "source": [
    "next(itr2)"
   ]
  },
  {
   "cell_type": "code",
   "execution_count": 232,
   "id": "83682fdd",
   "metadata": {},
   "outputs": [
    {
     "data": {
      "text/plain": [
       "234"
      ]
     },
     "execution_count": 232,
     "metadata": {},
     "output_type": "execute_result"
    }
   ],
   "source": [
    "next(itr2)"
   ]
  },
  {
   "cell_type": "code",
   "execution_count": 234,
   "id": "f801e10a",
   "metadata": {},
   "outputs": [
    {
     "data": {
      "text/plain": [
       "['__add__',\n",
       " '__class__',\n",
       " '__contains__',\n",
       " '__delattr__',\n",
       " '__dir__',\n",
       " '__doc__',\n",
       " '__eq__',\n",
       " '__format__',\n",
       " '__ge__',\n",
       " '__getattribute__',\n",
       " '__getitem__',\n",
       " '__getnewargs__',\n",
       " '__gt__',\n",
       " '__hash__',\n",
       " '__init__',\n",
       " '__init_subclass__',\n",
       " '__iter__',\n",
       " '__le__',\n",
       " '__len__',\n",
       " '__lt__',\n",
       " '__mod__',\n",
       " '__mul__',\n",
       " '__ne__',\n",
       " '__new__',\n",
       " '__reduce__',\n",
       " '__reduce_ex__',\n",
       " '__repr__',\n",
       " '__rmod__',\n",
       " '__rmul__',\n",
       " '__setattr__',\n",
       " '__sizeof__',\n",
       " '__str__',\n",
       " '__subclasshook__',\n",
       " 'capitalize',\n",
       " 'casefold',\n",
       " 'center',\n",
       " 'count',\n",
       " 'encode',\n",
       " 'endswith',\n",
       " 'expandtabs',\n",
       " 'find',\n",
       " 'format',\n",
       " 'format_map',\n",
       " 'index',\n",
       " 'isalnum',\n",
       " 'isalpha',\n",
       " 'isascii',\n",
       " 'isdecimal',\n",
       " 'isdigit',\n",
       " 'isidentifier',\n",
       " 'islower',\n",
       " 'isnumeric',\n",
       " 'isprintable',\n",
       " 'isspace',\n",
       " 'istitle',\n",
       " 'isupper',\n",
       " 'join',\n",
       " 'ljust',\n",
       " 'lower',\n",
       " 'lstrip',\n",
       " 'maketrans',\n",
       " 'partition',\n",
       " 'removeprefix',\n",
       " 'removesuffix',\n",
       " 'replace',\n",
       " 'rfind',\n",
       " 'rindex',\n",
       " 'rjust',\n",
       " 'rpartition',\n",
       " 'rsplit',\n",
       " 'rstrip',\n",
       " 'split',\n",
       " 'splitlines',\n",
       " 'startswith',\n",
       " 'strip',\n",
       " 'swapcase',\n",
       " 'title',\n",
       " 'translate',\n",
       " 'upper',\n",
       " 'zfill']"
      ]
     },
     "execution_count": 234,
     "metadata": {},
     "output_type": "execute_result"
    }
   ],
   "source": [
    "dir('yield')"
   ]
  },
  {
   "cell_type": "code",
   "execution_count": 236,
   "id": "e4e0170a",
   "metadata": {},
   "outputs": [
    {
     "name": "stdout",
     "output_type": "stream",
     "text": [
      "0\n",
      "1\n",
      "1\n",
      "2\n",
      "3\n",
      "5\n",
      "8\n",
      "13\n",
      "21\n",
      "34\n",
      "55\n",
      "89\n"
     ]
    }
   ],
   "source": [
    "def fib():\n",
    "    a,b=0,1\n",
    "    while True:\n",
    "        yield a\n",
    "        a,b=b,a+b\n",
    "for f in fib():\n",
    "    if f>100:\n",
    "        break\n",
    "    print(f)"
   ]
  },
  {
   "cell_type": "code",
   "execution_count": 238,
   "id": "94078d90",
   "metadata": {},
   "outputs": [],
   "source": [
    "num=[1,2,34,54,5,35,631,3,43,121,13,414,31,1]"
   ]
  },
  {
   "cell_type": "code",
   "execution_count": 239,
   "id": "780661fd",
   "metadata": {},
   "outputs": [],
   "source": [
    "even=[]\n",
    "for i in num:\n",
    "    if i%2==0:\n",
    "        even.append(i)"
   ]
  },
  {
   "cell_type": "code",
   "execution_count": 240,
   "id": "1a2cab11",
   "metadata": {},
   "outputs": [
    {
     "data": {
      "text/plain": [
       "[2, 34, 54, 414]"
      ]
     },
     "execution_count": 240,
     "metadata": {},
     "output_type": "execute_result"
    }
   ],
   "source": [
    "even"
   ]
  },
  {
   "cell_type": "code",
   "execution_count": 242,
   "id": "210ee0c9",
   "metadata": {},
   "outputs": [],
   "source": [
    "#Comprehensive\n",
    "even2=[i for i in num if i%2==0]"
   ]
  },
  {
   "cell_type": "code",
   "execution_count": 243,
   "id": "709eea53",
   "metadata": {},
   "outputs": [
    {
     "data": {
      "text/plain": [
       "[2, 34, 54, 414]"
      ]
     },
     "execution_count": 243,
     "metadata": {},
     "output_type": "execute_result"
    }
   ],
   "source": [
    "even2"
   ]
  },
  {
   "cell_type": "code",
   "execution_count": 244,
   "id": "b80ccc02",
   "metadata": {},
   "outputs": [],
   "source": [
    "odd=[i for i in num if i%2 !=0]"
   ]
  },
  {
   "cell_type": "code",
   "execution_count": 245,
   "id": "2fec98a0",
   "metadata": {},
   "outputs": [
    {
     "data": {
      "text/plain": [
       "[1, 5, 35, 631, 3, 43, 121, 13, 31, 1]"
      ]
     },
     "execution_count": 245,
     "metadata": {},
     "output_type": "execute_result"
    }
   ],
   "source": [
    "odd"
   ]
  },
  {
   "cell_type": "code",
   "execution_count": 248,
   "id": "596dcf15",
   "metadata": {},
   "outputs": [],
   "source": [
    "sqr=[i*i for i in num]"
   ]
  },
  {
   "cell_type": "code",
   "execution_count": 249,
   "id": "11eb03f6",
   "metadata": {},
   "outputs": [
    {
     "data": {
      "text/plain": [
       "[1, 4, 1156, 2916, 25, 1225, 398161, 9, 1849, 14641, 169, 171396, 961, 1]"
      ]
     },
     "execution_count": 249,
     "metadata": {},
     "output_type": "execute_result"
    }
   ],
   "source": [
    "sqr"
   ]
  },
  {
   "cell_type": "code",
   "execution_count": 251,
   "id": "43e35f0e",
   "metadata": {},
   "outputs": [],
   "source": [
    "s=set([1,2,3,4,5,6,2,5])"
   ]
  },
  {
   "cell_type": "code",
   "execution_count": 252,
   "id": "2c8f6fe1",
   "metadata": {},
   "outputs": [
    {
     "data": {
      "text/plain": [
       "{1, 2, 3, 4, 5, 6}"
      ]
     },
     "execution_count": 252,
     "metadata": {},
     "output_type": "execute_result"
    }
   ],
   "source": [
    "s"
   ]
  },
  {
   "cell_type": "code",
   "execution_count": 253,
   "id": "f7d2a0ba",
   "metadata": {},
   "outputs": [],
   "source": [
    "ev={i for i in s if i%2==0}"
   ]
  },
  {
   "cell_type": "code",
   "execution_count": 254,
   "id": "236070d2",
   "metadata": {},
   "outputs": [
    {
     "data": {
      "text/plain": [
       "{2, 4, 6}"
      ]
     },
     "execution_count": 254,
     "metadata": {},
     "output_type": "execute_result"
    }
   ],
   "source": [
    "ev"
   ]
  },
  {
   "cell_type": "code",
   "execution_count": 255,
   "id": "1bcb8b0d",
   "metadata": {},
   "outputs": [],
   "source": [
    "cities=['Mumbai','New York','Paris','Kolambo']\n",
    "countries=['India','USA','France','Sri Lanka']"
   ]
  },
  {
   "cell_type": "code",
   "execution_count": 256,
   "id": "3012681f",
   "metadata": {},
   "outputs": [],
   "source": [
    "z=zip(cities,countries)"
   ]
  },
  {
   "cell_type": "code",
   "execution_count": 257,
   "id": "57e08c34",
   "metadata": {},
   "outputs": [
    {
     "data": {
      "text/plain": [
       "<zip at 0x15b250104c0>"
      ]
     },
     "execution_count": 257,
     "metadata": {},
     "output_type": "execute_result"
    }
   ],
   "source": [
    "z"
   ]
  },
  {
   "cell_type": "code",
   "execution_count": 258,
   "id": "91e2b54a",
   "metadata": {},
   "outputs": [
    {
     "name": "stdout",
     "output_type": "stream",
     "text": [
      "('Mumbai', 'India')\n",
      "('New York', 'USA')\n",
      "('Paris', 'France')\n",
      "('Kolambo', 'Sri Lanka')\n"
     ]
    }
   ],
   "source": [
    "for i in z:\n",
    "    print(i)"
   ]
  },
  {
   "cell_type": "code",
   "execution_count": 259,
   "id": "b227d0fb",
   "metadata": {},
   "outputs": [],
   "source": [
    "d={city:country for city,country in zip(cities,countries)}"
   ]
  },
  {
   "cell_type": "code",
   "execution_count": 260,
   "id": "e6f3ab3b",
   "metadata": {},
   "outputs": [
    {
     "data": {
      "text/plain": [
       "{'Mumbai': 'India',\n",
       " 'New York': 'USA',\n",
       " 'Paris': 'France',\n",
       " 'Kolambo': 'Sri Lanka'}"
      ]
     },
     "execution_count": 260,
     "metadata": {},
     "output_type": "execute_result"
    }
   ],
   "source": [
    "d"
   ]
  },
  {
   "cell_type": "code",
   "execution_count": 261,
   "id": "63560ab2",
   "metadata": {},
   "outputs": [],
   "source": [
    "d={country:city for city,country in zip(cities,countries)}"
   ]
  },
  {
   "cell_type": "code",
   "execution_count": 262,
   "id": "568372c2",
   "metadata": {},
   "outputs": [
    {
     "data": {
      "text/plain": [
       "{'India': 'Mumbai',\n",
       " 'USA': 'New York',\n",
       " 'France': 'Paris',\n",
       " 'Sri Lanka': 'Kolambo'}"
      ]
     },
     "execution_count": 262,
     "metadata": {},
     "output_type": "execute_result"
    }
   ],
   "source": [
    "d"
   ]
  },
  {
   "cell_type": "code",
   "execution_count": 263,
   "id": "e5f7e18f",
   "metadata": {},
   "outputs": [],
   "source": [
    "a={}"
   ]
  },
  {
   "cell_type": "code",
   "execution_count": 264,
   "id": "9255c158",
   "metadata": {},
   "outputs": [
    {
     "data": {
      "text/plain": [
       "dict"
      ]
     },
     "execution_count": 264,
     "metadata": {},
     "output_type": "execute_result"
    }
   ],
   "source": [
    "type(a)"
   ]
  },
  {
   "cell_type": "code",
   "execution_count": 265,
   "id": "a1ae6373",
   "metadata": {},
   "outputs": [],
   "source": [
    "b={\"Sandeep\"}"
   ]
  },
  {
   "cell_type": "code",
   "execution_count": 266,
   "id": "61c0aaf1",
   "metadata": {},
   "outputs": [
    {
     "data": {
      "text/plain": [
       "set"
      ]
     },
     "execution_count": 266,
     "metadata": {},
     "output_type": "execute_result"
    }
   ],
   "source": [
    "type(b)"
   ]
  },
  {
   "cell_type": "code",
   "execution_count": 267,
   "id": "46b6d874",
   "metadata": {},
   "outputs": [],
   "source": [
    "c={\"Name\":\"Sandeep\"}"
   ]
  },
  {
   "cell_type": "code",
   "execution_count": 268,
   "id": "4b917709",
   "metadata": {},
   "outputs": [
    {
     "data": {
      "text/plain": [
       "dict"
      ]
     },
     "execution_count": 268,
     "metadata": {},
     "output_type": "execute_result"
    }
   ],
   "source": [
    "type(c)"
   ]
  },
  {
   "cell_type": "code",
   "execution_count": 4,
   "id": "172e0736",
   "metadata": {},
   "outputs": [
    {
     "name": "stdout",
     "output_type": "stream",
     "text": [
      "Requirement already satisfied: pytest in c:\\users\\sande\\anaconda3\\lib\\site-packages (7.1.1)\n",
      "Requirement already satisfied: attrs>=19.2.0 in c:\\users\\sande\\anaconda3\\lib\\site-packages (from pytest) (21.4.0)\n",
      "Requirement already satisfied: iniconfig in c:\\users\\sande\\anaconda3\\lib\\site-packages (from pytest) (1.1.1)\n",
      "Requirement already satisfied: packaging in c:\\users\\sande\\anaconda3\\lib\\site-packages (from pytest) (21.3)\n",
      "Requirement already satisfied: pluggy<2.0,>=0.12 in c:\\users\\sande\\anaconda3\\lib\\site-packages (from pytest) (1.0.0)\n",
      "Requirement already satisfied: py>=1.8.2 in c:\\users\\sande\\anaconda3\\lib\\site-packages (from pytest) (1.11.0)\n",
      "Requirement already satisfied: tomli>=1.0.0 in c:\\users\\sande\\anaconda3\\lib\\site-packages (from pytest) (1.2.2)\n",
      "Requirement already satisfied: atomicwrites>=1.0 in c:\\users\\sande\\anaconda3\\lib\\site-packages (from pytest) (1.4.0)\n",
      "Requirement already satisfied: colorama in c:\\users\\sande\\anaconda3\\lib\\site-packages (from pytest) (0.4.4)\n",
      "Requirement already satisfied: pyparsing!=3.0.5,>=2.0.2 in c:\\users\\sande\\anaconda3\\lib\\site-packages (from packaging->pytest) (3.0.4)\n"
     ]
    }
   ],
   "source": [
    "!pip install pytest"
   ]
  },
  {
   "cell_type": "code",
   "execution_count": 5,
   "id": "1a603458",
   "metadata": {},
   "outputs": [],
   "source": [
    "import numpy as np"
   ]
  },
  {
   "cell_type": "code",
   "execution_count": 6,
   "id": "ea2fb0ff",
   "metadata": {},
   "outputs": [],
   "source": [
    "a=np.array([12,23,324,235,135,15,16])"
   ]
  },
  {
   "cell_type": "code",
   "execution_count": 7,
   "id": "9884ceee",
   "metadata": {},
   "outputs": [
    {
     "data": {
      "text/plain": [
       "array([ 12,  23, 324, 235, 135,  15,  16])"
      ]
     },
     "execution_count": 7,
     "metadata": {},
     "output_type": "execute_result"
    }
   ],
   "source": [
    "a"
   ]
  },
  {
   "cell_type": "code",
   "execution_count": 8,
   "id": "c9c8f9e8",
   "metadata": {},
   "outputs": [
    {
     "data": {
      "text/plain": [
       "numpy.ndarray"
      ]
     },
     "execution_count": 8,
     "metadata": {},
     "output_type": "execute_result"
    }
   ],
   "source": [
    "type(a)"
   ]
  },
  {
   "cell_type": "code",
   "execution_count": 9,
   "id": "7e15ef37",
   "metadata": {},
   "outputs": [],
   "source": [
    "import time\n",
    "import sys"
   ]
  },
  {
   "cell_type": "code",
   "execution_count": 10,
   "id": "5523db04",
   "metadata": {},
   "outputs": [
    {
     "name": "stdout",
     "output_type": "stream",
     "text": [
      "28000\n"
     ]
    }
   ],
   "source": [
    "l=range(1000)\n",
    "print(sys.getsizeof(5)*len(l))"
   ]
  },
  {
   "cell_type": "code",
   "execution_count": 11,
   "id": "523ddab8",
   "metadata": {},
   "outputs": [
    {
     "name": "stdout",
     "output_type": "stream",
     "text": [
      "4000\n"
     ]
    }
   ],
   "source": [
    "array=np.arange(1000)\n",
    "print(array.size*array.itemsize)"
   ]
  },
  {
   "cell_type": "code",
   "execution_count": 12,
   "id": "d9ce42cf",
   "metadata": {},
   "outputs": [],
   "source": [
    "size=1000"
   ]
  },
  {
   "cell_type": "code",
   "execution_count": 13,
   "id": "f6085785",
   "metadata": {},
   "outputs": [],
   "source": [
    "l1=range(size)\n",
    "l2=range(size)\n",
    "\n",
    "a1=np.arange(size)\n",
    "a2=np.arange(size)\n",
    "\n",
    "start=time.time()\n",
    "result=[(x+y) for x,y in zip(l1,l2)]\n",
    "print(\"Time taken by the list\",(time.time()-start)*1000)\n",
    "start=time.time\n",
    "result="
   ]
  },
  {
   "cell_type": "code",
   "execution_count": null,
   "id": "59439003",
   "metadata": {},
   "outputs": [],
   "source": []
  }
 ],
 "metadata": {
  "kernelspec": {
   "display_name": "Python 3 (ipykernel)",
   "language": "python",
   "name": "python3"
  },
  "language_info": {
   "codemirror_mode": {
    "name": "ipython",
    "version": 3
   },
   "file_extension": ".py",
   "mimetype": "text/x-python",
   "name": "python",
   "nbconvert_exporter": "python",
   "pygments_lexer": "ipython3",
   "version": "3.9.12"
  }
 },
 "nbformat": 4,
 "nbformat_minor": 5
}
