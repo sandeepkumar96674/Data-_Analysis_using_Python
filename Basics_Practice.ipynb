{
 "cells": [
  {
   "cell_type": "code",
   "execution_count": 120,
   "id": "3972e406",
   "metadata": {},
   "outputs": [
    {
     "name": "stdout",
     "output_type": "stream",
     "text": [
      "Hello World\n"
     ]
    }
   ],
   "source": [
    "print(\"Hello World\")"
   ]
  },
  {
   "cell_type": "code",
   "execution_count": 121,
   "id": "a2019f74",
   "metadata": {},
   "outputs": [],
   "source": [
    "c=1+2j"
   ]
  },
  {
   "cell_type": "code",
   "execution_count": 122,
   "id": "498a51bc",
   "metadata": {},
   "outputs": [
    {
     "data": {
      "text/plain": [
       "complex"
      ]
     },
     "execution_count": 122,
     "metadata": {},
     "output_type": "execute_result"
    }
   ],
   "source": [
    "type(c)"
   ]
  },
  {
   "cell_type": "code",
   "execution_count": 123,
   "id": "416b366d",
   "metadata": {},
   "outputs": [],
   "source": [
    "del (c)"
   ]
  },
  {
   "cell_type": "code",
   "execution_count": 124,
   "id": "2c7b1ff8",
   "metadata": {},
   "outputs": [
    {
     "ename": "NameError",
     "evalue": "name 'c' is not defined",
     "output_type": "error",
     "traceback": [
      "\u001b[1;31m---------------------------------------------------------------------------\u001b[0m",
      "\u001b[1;31mNameError\u001b[0m                                 Traceback (most recent call last)",
      "Input \u001b[1;32mIn [124]\u001b[0m, in \u001b[0;36m<cell line: 1>\u001b[1;34m()\u001b[0m\n\u001b[1;32m----> 1\u001b[0m \u001b[38;5;28mprint\u001b[39m(\u001b[43mc\u001b[49m)\n",
      "\u001b[1;31mNameError\u001b[0m: name 'c' is not defined"
     ]
    }
   ],
   "source": [
    "print(c)"
   ]
  },
  {
   "cell_type": "markdown",
   "id": "973eb56a",
   "metadata": {},
   "source": [
    "$a=b+c$"
   ]
  },
  {
   "cell_type": "code",
   "execution_count": 125,
   "id": "44de3ee1",
   "metadata": {},
   "outputs": [
    {
     "name": "stdout",
     "output_type": "stream",
     "text": [
      "Variable   Type      Data/Info\n",
      "------------------------------\n",
      "a          float     1212431.315341\n",
      "address    str       Jaipur, Rajasthan\n",
      "area       float     25.0\n",
      "b          int       3\n",
      "base       int       10\n",
      "d          int       -34\n",
      "details    list      n=10\n",
      "e          float     45.2\n",
      "expense    list      n=8\n",
      "f          int       10\n",
      "first      int       2\n",
      "height     int       5\n",
      "i          int       7\n",
      "l          list      n=10\n",
      "name       str       Sandeep Kumar\n",
      "name1      str       Sandeep\n",
      "name2      str       Vivek\n",
      "name3      str       Shyam\n",
      "names      list      n=5\n",
      "np         module    <module 'numpy' from 'C:\\<...>ges\\\\numpy\\\\__init__.py'>\n",
      "s          str       Sandeep\n",
      "second     int       3\n",
      "sid        list      n=5\n",
      "sys        module    <module 'sys' (built-in)>\n",
      "third      int       5\n",
      "total      int       3058\n",
      "x          float     1212431.315341\n"
     ]
    }
   ],
   "source": [
    "%whos"
   ]
  },
  {
   "cell_type": "code",
   "execution_count": 126,
   "id": "55f914d4",
   "metadata": {},
   "outputs": [],
   "source": [
    "b,c,d,e,f=1,14,-34,45.2,10"
   ]
  },
  {
   "cell_type": "code",
   "execution_count": 127,
   "id": "46eb2d86",
   "metadata": {},
   "outputs": [
    {
     "name": "stdout",
     "output_type": "stream",
     "text": [
      "Variable   Type      Data/Info\n",
      "------------------------------\n",
      "a          float     1212431.315341\n",
      "address    str       Jaipur, Rajasthan\n",
      "area       float     25.0\n",
      "b          int       1\n",
      "base       int       10\n",
      "c          int       14\n",
      "d          int       -34\n",
      "details    list      n=10\n",
      "e          float     45.2\n",
      "expense    list      n=8\n",
      "f          int       10\n",
      "first      int       2\n",
      "height     int       5\n",
      "i          int       7\n",
      "l          list      n=10\n",
      "name       str       Sandeep Kumar\n",
      "name1      str       Sandeep\n",
      "name2      str       Vivek\n",
      "name3      str       Shyam\n",
      "names      list      n=5\n",
      "np         module    <module 'numpy' from 'C:\\<...>ges\\\\numpy\\\\__init__.py'>\n",
      "s          str       Sandeep\n",
      "second     int       3\n",
      "sid        list      n=5\n",
      "sys        module    <module 'sys' (built-in)>\n",
      "third      int       5\n",
      "total      int       3058\n",
      "x          float     1212431.315341\n"
     ]
    }
   ],
   "source": [
    "%whos"
   ]
  },
  {
   "cell_type": "code",
   "execution_count": 128,
   "id": "8f003988",
   "metadata": {},
   "outputs": [
    {
     "name": "stdout",
     "output_type": "stream",
     "text": [
      "Variable   Type      Data/Info\n",
      "------------------------------\n",
      "a          float     1212431.315341\n",
      "address    str       Jaipur, Rajasthan\n",
      "area       float     25.0\n",
      "b          int       1\n",
      "base       int       10\n",
      "c          int       14\n",
      "d          int       -34\n",
      "details    list      n=10\n",
      "e          float     45.2\n",
      "expense    list      n=8\n",
      "f          int       10\n",
      "first      int       2\n",
      "height     int       5\n",
      "i          int       7\n",
      "l          list      n=10\n",
      "name       str       Sandeep Kumar\n",
      "name1      str       Sandeep\n",
      "name2      str       Vivek\n",
      "name3      str       Shyam\n",
      "names      list      n=5\n",
      "np         module    <module 'numpy' from 'C:\\<...>ges\\\\numpy\\\\__init__.py'>\n",
      "s          str       Sandeep\n",
      "second     int       3\n",
      "sid        list      n=5\n",
      "sys        module    <module 'sys' (built-in)>\n",
      "third      int       5\n",
      "total      int       3058\n",
      "x          float     1212431.315341\n"
     ]
    }
   ],
   "source": [
    "%whos"
   ]
  },
  {
   "cell_type": "code",
   "execution_count": 129,
   "id": "94aa6d27",
   "metadata": {},
   "outputs": [],
   "source": [
    "x=90"
   ]
  },
  {
   "cell_type": "code",
   "execution_count": 130,
   "id": "d310aeaf",
   "metadata": {},
   "outputs": [
    {
     "name": "stdout",
     "output_type": "stream",
     "text": [
      "Variable   Type      Data/Info\n",
      "------------------------------\n",
      "a          float     1212431.315341\n",
      "address    str       Jaipur, Rajasthan\n",
      "area       float     25.0\n",
      "b          int       1\n",
      "base       int       10\n",
      "c          int       14\n",
      "d          int       -34\n",
      "details    list      n=10\n",
      "e          float     45.2\n",
      "expense    list      n=8\n",
      "f          int       10\n",
      "first      int       2\n",
      "height     int       5\n",
      "i          int       7\n",
      "l          list      n=10\n",
      "name       str       Sandeep Kumar\n",
      "name1      str       Sandeep\n",
      "name2      str       Vivek\n",
      "name3      str       Shyam\n",
      "names      list      n=5\n",
      "np         module    <module 'numpy' from 'C:\\<...>ges\\\\numpy\\\\__init__.py'>\n",
      "s          str       Sandeep\n",
      "second     int       3\n",
      "sid        list      n=5\n",
      "sys        module    <module 'sys' (built-in)>\n",
      "third      int       5\n",
      "total      int       3058\n",
      "x          int       90\n"
     ]
    }
   ],
   "source": [
    "%whos"
   ]
  },
  {
   "cell_type": "code",
   "execution_count": 131,
   "id": "a0798a1c",
   "metadata": {},
   "outputs": [
    {
     "data": {
      "text/plain": [
       "['__add__',\n",
       " '__class__',\n",
       " '__class_getitem__',\n",
       " '__contains__',\n",
       " '__delattr__',\n",
       " '__delitem__',\n",
       " '__dir__',\n",
       " '__doc__',\n",
       " '__eq__',\n",
       " '__format__',\n",
       " '__ge__',\n",
       " '__getattribute__',\n",
       " '__getitem__',\n",
       " '__gt__',\n",
       " '__hash__',\n",
       " '__iadd__',\n",
       " '__imul__',\n",
       " '__init__',\n",
       " '__init_subclass__',\n",
       " '__iter__',\n",
       " '__le__',\n",
       " '__len__',\n",
       " '__lt__',\n",
       " '__mul__',\n",
       " '__ne__',\n",
       " '__new__',\n",
       " '__reduce__',\n",
       " '__reduce_ex__',\n",
       " '__repr__',\n",
       " '__reversed__',\n",
       " '__rmul__',\n",
       " '__setattr__',\n",
       " '__setitem__',\n",
       " '__sizeof__',\n",
       " '__str__',\n",
       " '__subclasshook__',\n",
       " 'append',\n",
       " 'clear',\n",
       " 'copy',\n",
       " 'count',\n",
       " 'extend',\n",
       " 'index',\n",
       " 'insert',\n",
       " 'pop',\n",
       " 'remove',\n",
       " 'reverse',\n",
       " 'sort']"
      ]
     },
     "execution_count": 131,
     "metadata": {},
     "output_type": "execute_result"
    }
   ],
   "source": [
    "dir(list)"
   ]
  },
  {
   "cell_type": "code",
   "execution_count": 132,
   "id": "c531bced",
   "metadata": {},
   "outputs": [],
   "source": [
    "s=\"How are you buddy\""
   ]
  },
  {
   "cell_type": "code",
   "execution_count": 133,
   "id": "162d1999",
   "metadata": {},
   "outputs": [
    {
     "data": {
      "text/plain": [
       "'How are you buddy'"
      ]
     },
     "execution_count": 133,
     "metadata": {},
     "output_type": "execute_result"
    }
   ],
   "source": [
    "s"
   ]
  },
  {
   "cell_type": "code",
   "execution_count": 134,
   "id": "36f15031",
   "metadata": {},
   "outputs": [
    {
     "name": "stdout",
     "output_type": "stream",
     "text": [
      "<class 'str'>\n"
     ]
    }
   ],
   "source": [
    "print(type(s))"
   ]
  },
  {
   "cell_type": "code",
   "execution_count": 135,
   "id": "b988d74e",
   "metadata": {},
   "outputs": [
    {
     "data": {
      "text/plain": [
       "str"
      ]
     },
     "execution_count": 135,
     "metadata": {},
     "output_type": "execute_result"
    }
   ],
   "source": [
    "type(s)"
   ]
  },
  {
   "cell_type": "code",
   "execution_count": 136,
   "id": "591695df",
   "metadata": {},
   "outputs": [],
   "source": [
    "a=\"Sandeep\""
   ]
  },
  {
   "cell_type": "code",
   "execution_count": 137,
   "id": "59198b6e",
   "metadata": {},
   "outputs": [
    {
     "data": {
      "text/plain": [
       "'Sandeep'"
      ]
     },
     "execution_count": 137,
     "metadata": {},
     "output_type": "execute_result"
    }
   ],
   "source": [
    "a"
   ]
  },
  {
   "cell_type": "code",
   "execution_count": 138,
   "id": "3dd64af4",
   "metadata": {},
   "outputs": [
    {
     "data": {
      "text/plain": [
       "'Sandeep'"
      ]
     },
     "execution_count": 138,
     "metadata": {},
     "output_type": "execute_result"
    }
   ],
   "source": [
    "_"
   ]
  },
  {
   "cell_type": "code",
   "execution_count": 139,
   "id": "e581c9b5",
   "metadata": {},
   "outputs": [],
   "source": [
    "b=\"New\""
   ]
  },
  {
   "cell_type": "code",
   "execution_count": 140,
   "id": "bc7cfeeb",
   "metadata": {},
   "outputs": [
    {
     "data": {
      "text/plain": [
       "'New'"
      ]
     },
     "execution_count": 140,
     "metadata": {},
     "output_type": "execute_result"
    }
   ],
   "source": [
    "b"
   ]
  },
  {
   "cell_type": "code",
   "execution_count": 141,
   "id": "de1eefc5",
   "metadata": {},
   "outputs": [
    {
     "data": {
      "text/plain": [
       "'New'"
      ]
     },
     "execution_count": 141,
     "metadata": {},
     "output_type": "execute_result"
    }
   ],
   "source": [
    "_"
   ]
  },
  {
   "cell_type": "code",
   "execution_count": 142,
   "id": "099df88e",
   "metadata": {},
   "outputs": [
    {
     "name": "stdout",
     "output_type": "stream",
     "text": [
      "Variable   Type      Data/Info\n",
      "------------------------------\n",
      "a          str       Sandeep\n",
      "address    str       Jaipur, Rajasthan\n",
      "area       float     25.0\n",
      "b          str       New\n",
      "base       int       10\n",
      "c          int       14\n",
      "d          int       -34\n",
      "details    list      n=10\n",
      "e          float     45.2\n",
      "expense    list      n=8\n",
      "f          int       10\n",
      "first      int       2\n",
      "height     int       5\n",
      "i          int       7\n",
      "l          list      n=10\n",
      "name       str       Sandeep Kumar\n",
      "name1      str       Sandeep\n",
      "name2      str       Vivek\n",
      "name3      str       Shyam\n",
      "names      list      n=5\n",
      "np         module    <module 'numpy' from 'C:\\<...>ges\\\\numpy\\\\__init__.py'>\n",
      "s          str       How are you buddy\n",
      "second     int       3\n",
      "sid        list      n=5\n",
      "sys        module    <module 'sys' (built-in)>\n",
      "third      int       5\n",
      "total      int       3058\n",
      "x          int       90\n"
     ]
    }
   ],
   "source": [
    "%whos"
   ]
  },
  {
   "cell_type": "code",
   "execution_count": 143,
   "id": "4f12e31c",
   "metadata": {},
   "outputs": [
    {
     "data": {
      "text/plain": [
       "True"
      ]
     },
     "execution_count": 143,
     "metadata": {},
     "output_type": "execute_result"
    }
   ],
   "source": [
    "'a'>'A'"
   ]
  },
  {
   "cell_type": "code",
   "execution_count": 144,
   "id": "ff050e7c",
   "metadata": {},
   "outputs": [
    {
     "data": {
      "text/plain": [
       "True"
      ]
     },
     "execution_count": 144,
     "metadata": {},
     "output_type": "execute_result"
    }
   ],
   "source": [
    "2!=3"
   ]
  },
  {
   "cell_type": "code",
   "execution_count": 145,
   "id": "44888083",
   "metadata": {},
   "outputs": [
    {
     "data": {
      "text/plain": [
       "False"
      ]
     },
     "execution_count": 145,
     "metadata": {},
     "output_type": "execute_result"
    }
   ],
   "source": [
    "not True and True and True"
   ]
  },
  {
   "cell_type": "code",
   "execution_count": 146,
   "id": "f453db2d",
   "metadata": {},
   "outputs": [
    {
     "name": "stdout",
     "output_type": "stream",
     "text": [
      "8\n"
     ]
    }
   ],
   "source": [
    "print(round(7.5))"
   ]
  },
  {
   "cell_type": "code",
   "execution_count": 147,
   "id": "f59f6cfd",
   "metadata": {},
   "outputs": [
    {
     "data": {
      "text/plain": [
       "(4, 4)"
      ]
     },
     "execution_count": 147,
     "metadata": {},
     "output_type": "execute_result"
    }
   ],
   "source": [
    "divmod(24,5)"
   ]
  },
  {
   "cell_type": "code",
   "execution_count": 148,
   "id": "890b15cb",
   "metadata": {},
   "outputs": [
    {
     "data": {
      "text/plain": [
       "(2, 0)"
      ]
     },
     "execution_count": 148,
     "metadata": {},
     "output_type": "execute_result"
    }
   ],
   "source": [
    "divmod(2,1)"
   ]
  },
  {
   "cell_type": "code",
   "execution_count": 149,
   "id": "00913853",
   "metadata": {},
   "outputs": [
    {
     "data": {
      "text/plain": [
       "True"
      ]
     },
     "execution_count": 149,
     "metadata": {},
     "output_type": "execute_result"
    }
   ],
   "source": [
    "isinstance(1,int)"
   ]
  },
  {
   "cell_type": "code",
   "execution_count": 150,
   "id": "dc0f8882",
   "metadata": {},
   "outputs": [
    {
     "data": {
      "text/plain": [
       "32"
      ]
     },
     "execution_count": 150,
     "metadata": {},
     "output_type": "execute_result"
    }
   ],
   "source": [
    "pow(2,5)"
   ]
  },
  {
   "cell_type": "code",
   "execution_count": 151,
   "id": "a682009e",
   "metadata": {},
   "outputs": [
    {
     "data": {
      "text/plain": [
       "1"
      ]
     },
     "execution_count": 151,
     "metadata": {},
     "output_type": "execute_result"
    }
   ],
   "source": [
    "pow(2,4,3)"
   ]
  },
  {
   "cell_type": "code",
   "execution_count": 152,
   "id": "8bfa9285",
   "metadata": {},
   "outputs": [
    {
     "name": "stdout",
     "output_type": "stream",
     "text": [
      "Help on method raw_input in module ipykernel.kernelbase:\n",
      "\n",
      "raw_input(prompt='') method of ipykernel.ipkernel.IPythonKernel instance\n",
      "    Forward raw_input to frontends\n",
      "    \n",
      "    Raises\n",
      "    ------\n",
      "    StdinNotImplementedError if active frontend doesn't support stdin.\n",
      "\n"
     ]
    }
   ],
   "source": [
    "help(input)"
   ]
  },
  {
   "cell_type": "code",
   "execution_count": 153,
   "id": "673445bb",
   "metadata": {},
   "outputs": [
    {
     "name": "stdout",
     "output_type": "stream",
     "text": [
      "1\n",
      "2\n",
      "3\n",
      "4\n",
      "5\n",
      "6\n",
      "7\n",
      "8\n",
      "9\n",
      "10\n",
      "[0, 1, 4, 9, 16, 25, 36, 49, 64, 81]\n"
     ]
    }
   ],
   "source": [
    "l=[]\n",
    "for i in range(10):\n",
    "    print(i+1)\n",
    "    l.append(i**2)\n",
    "print(l)"
   ]
  },
  {
   "cell_type": "code",
   "execution_count": 154,
   "id": "da68b10c",
   "metadata": {},
   "outputs": [
    {
     "data": {
      "text/plain": [
       "'Importing numpy for Numerical Analysis\\n'"
      ]
     },
     "execution_count": 154,
     "metadata": {},
     "output_type": "execute_result"
    }
   ],
   "source": [
    "import numpy as np\n",
    "\"\"\"Importing numpy for Numerical Analysis\n",
    "\"\"\""
   ]
  },
  {
   "cell_type": "code",
   "execution_count": 155,
   "id": "30915e4c",
   "metadata": {},
   "outputs": [],
   "source": [
    "np?"
   ]
  },
  {
   "cell_type": "code",
   "execution_count": 156,
   "id": "38f7304c",
   "metadata": {},
   "outputs": [],
   "source": [
    "len??"
   ]
  },
  {
   "cell_type": "code",
   "execution_count": 157,
   "id": "f9dcf318",
   "metadata": {},
   "outputs": [],
   "source": [
    "import sys"
   ]
  },
  {
   "cell_type": "code",
   "execution_count": 158,
   "id": "96ca63b2",
   "metadata": {},
   "outputs": [],
   "source": [
    "s=\"Sandeep\"\n",
    "a=\"Kumar\""
   ]
  },
  {
   "cell_type": "code",
   "execution_count": 159,
   "id": "74dda671",
   "metadata": {},
   "outputs": [
    {
     "name": "stdout",
     "output_type": "stream",
     "text": [
      "<class 'str'>\n"
     ]
    }
   ],
   "source": [
    "print(type(a))"
   ]
  },
  {
   "cell_type": "code",
   "execution_count": 160,
   "id": "d1fd8ab9",
   "metadata": {},
   "outputs": [
    {
     "data": {
      "text/plain": [
       "str"
      ]
     },
     "execution_count": 160,
     "metadata": {},
     "output_type": "execute_result"
    }
   ],
   "source": [
    "type(s)"
   ]
  },
  {
   "cell_type": "code",
   "execution_count": 161,
   "id": "372a829d",
   "metadata": {},
   "outputs": [],
   "source": [
    "a=np.array([1,2,3,4,5])\n",
    "b=np.array([1,2,43,4,5])"
   ]
  },
  {
   "cell_type": "code",
   "execution_count": 162,
   "id": "635e2289",
   "metadata": {},
   "outputs": [
    {
     "data": {
      "text/plain": [
       "array([1, 2, 4, 5])"
      ]
     },
     "execution_count": 162,
     "metadata": {},
     "output_type": "execute_result"
    }
   ],
   "source": [
    "np.intersect1d(a,b)"
   ]
  },
  {
   "cell_type": "code",
   "execution_count": 163,
   "id": "decc318b",
   "metadata": {},
   "outputs": [
    {
     "name": "stdout",
     "output_type": "stream",
     "text": [
      "<class 'numpy.ndarray'>\n"
     ]
    }
   ],
   "source": [
    "print(type(a))"
   ]
  },
  {
   "cell_type": "code",
   "execution_count": 164,
   "id": "db8a0265",
   "metadata": {},
   "outputs": [
    {
     "name": "stdout",
     "output_type": "stream",
     "text": [
      "<class 'numpy.ndarray'>\n"
     ]
    }
   ],
   "source": [
    "print(type(b))"
   ]
  },
  {
   "cell_type": "code",
   "execution_count": 165,
   "id": "756adbbe",
   "metadata": {},
   "outputs": [
    {
     "data": {
      "text/plain": [
       "dtype('int32')"
      ]
     },
     "execution_count": 165,
     "metadata": {},
     "output_type": "execute_result"
    }
   ],
   "source": [
    "a.dtype"
   ]
  },
  {
   "cell_type": "code",
   "execution_count": 166,
   "id": "33813748",
   "metadata": {},
   "outputs": [
    {
     "name": "stdout",
     "output_type": "stream",
     "text": [
      "1\n"
     ]
    }
   ],
   "source": [
    "print(a.ndim)"
   ]
  },
  {
   "cell_type": "code",
   "execution_count": 167,
   "id": "c3991ee0",
   "metadata": {},
   "outputs": [
    {
     "name": "stdout",
     "output_type": "stream",
     "text": [
      "1\n"
     ]
    }
   ],
   "source": [
    "print(b.ndim)"
   ]
  },
  {
   "cell_type": "code",
   "execution_count": 168,
   "id": "a91a3129",
   "metadata": {},
   "outputs": [
    {
     "name": "stdout",
     "output_type": "stream",
     "text": [
      "5\n"
     ]
    }
   ],
   "source": [
    "print(b.shape[0])"
   ]
  },
  {
   "cell_type": "code",
   "execution_count": 169,
   "id": "3eb41bdf",
   "metadata": {},
   "outputs": [
    {
     "name": "stderr",
     "output_type": "stream",
     "text": [
      "C:\\Users\\sande\\AppData\\Local\\Temp\\ipykernel_16928\\340799500.py:1: VisibleDeprecationWarning: Creating an ndarray from ragged nested sequences (which is a list-or-tuple of lists-or-tuples-or ndarrays with different lengths or shapes) is deprecated. If you meant to do this, you must specify 'dtype=object' when creating the ndarray.\n",
      "  c=np.array([[[1,2,3],[4,5,0],12,6,7]])\n"
     ]
    }
   ],
   "source": [
    "c=np.array([[[1,2,3],[4,5,0],12,6,7]])"
   ]
  },
  {
   "cell_type": "code",
   "execution_count": 170,
   "id": "c722477e",
   "metadata": {},
   "outputs": [
    {
     "data": {
      "text/plain": [
       "2"
      ]
     },
     "execution_count": 170,
     "metadata": {},
     "output_type": "execute_result"
    }
   ],
   "source": [
    "c.ndim"
   ]
  },
  {
   "cell_type": "code",
   "execution_count": 171,
   "id": "04123e03",
   "metadata": {},
   "outputs": [
    {
     "data": {
      "text/plain": [
       "[4, 5, 0]"
      ]
     },
     "execution_count": 171,
     "metadata": {},
     "output_type": "execute_result"
    }
   ],
   "source": [
    "c[0,1]"
   ]
  },
  {
   "cell_type": "code",
   "execution_count": 172,
   "id": "6dea5dc8",
   "metadata": {},
   "outputs": [],
   "source": [
    "a=2\n",
    "b=3\n",
    "c=5"
   ]
  },
  {
   "cell_type": "code",
   "execution_count": 173,
   "id": "6c3ac663",
   "metadata": {},
   "outputs": [],
   "source": [
    "first=a\n",
    "second=b\n",
    "third=c"
   ]
  },
  {
   "cell_type": "code",
   "execution_count": 174,
   "id": "0e16c672",
   "metadata": {},
   "outputs": [
    {
     "data": {
      "text/plain": [
       "['__abs__',\n",
       " '__add__',\n",
       " '__and__',\n",
       " '__bool__',\n",
       " '__ceil__',\n",
       " '__class__',\n",
       " '__delattr__',\n",
       " '__dir__',\n",
       " '__divmod__',\n",
       " '__doc__',\n",
       " '__eq__',\n",
       " '__float__',\n",
       " '__floor__',\n",
       " '__floordiv__',\n",
       " '__format__',\n",
       " '__ge__',\n",
       " '__getattribute__',\n",
       " '__getnewargs__',\n",
       " '__gt__',\n",
       " '__hash__',\n",
       " '__index__',\n",
       " '__init__',\n",
       " '__init_subclass__',\n",
       " '__int__',\n",
       " '__invert__',\n",
       " '__le__',\n",
       " '__lshift__',\n",
       " '__lt__',\n",
       " '__mod__',\n",
       " '__mul__',\n",
       " '__ne__',\n",
       " '__neg__',\n",
       " '__new__',\n",
       " '__or__',\n",
       " '__pos__',\n",
       " '__pow__',\n",
       " '__radd__',\n",
       " '__rand__',\n",
       " '__rdivmod__',\n",
       " '__reduce__',\n",
       " '__reduce_ex__',\n",
       " '__repr__',\n",
       " '__rfloordiv__',\n",
       " '__rlshift__',\n",
       " '__rmod__',\n",
       " '__rmul__',\n",
       " '__ror__',\n",
       " '__round__',\n",
       " '__rpow__',\n",
       " '__rrshift__',\n",
       " '__rshift__',\n",
       " '__rsub__',\n",
       " '__rtruediv__',\n",
       " '__rxor__',\n",
       " '__setattr__',\n",
       " '__sizeof__',\n",
       " '__str__',\n",
       " '__sub__',\n",
       " '__subclasshook__',\n",
       " '__truediv__',\n",
       " '__trunc__',\n",
       " '__xor__',\n",
       " 'as_integer_ratio',\n",
       " 'bit_length',\n",
       " 'conjugate',\n",
       " 'denominator',\n",
       " 'from_bytes',\n",
       " 'imag',\n",
       " 'numerator',\n",
       " 'real',\n",
       " 'to_bytes']"
      ]
     },
     "execution_count": 174,
     "metadata": {},
     "output_type": "execute_result"
    }
   ],
   "source": [
    "dir(a)"
   ]
  },
  {
   "cell_type": "code",
   "execution_count": 175,
   "id": "cdf992fb",
   "metadata": {},
   "outputs": [
    {
     "data": {
      "text/plain": [
       "1571156486480"
      ]
     },
     "execution_count": 175,
     "metadata": {},
     "output_type": "execute_result"
    }
   ],
   "source": [
    "id(a)"
   ]
  },
  {
   "cell_type": "code",
   "execution_count": 176,
   "id": "2066fdcc",
   "metadata": {},
   "outputs": [],
   "source": [
    "a=\"Sandeep\""
   ]
  },
  {
   "cell_type": "code",
   "execution_count": 177,
   "id": "14481aa6",
   "metadata": {},
   "outputs": [
    {
     "data": {
      "text/plain": [
       "1571271825648"
      ]
     },
     "execution_count": 177,
     "metadata": {},
     "output_type": "execute_result"
    }
   ],
   "source": [
    "id(a)"
   ]
  },
  {
   "cell_type": "code",
   "execution_count": 178,
   "id": "0e8906fd",
   "metadata": {},
   "outputs": [],
   "source": [
    "x=1212431.315341"
   ]
  },
  {
   "cell_type": "code",
   "execution_count": 179,
   "id": "71677fba",
   "metadata": {},
   "outputs": [
    {
     "data": {
      "text/plain": [
       "1212431"
      ]
     },
     "execution_count": 179,
     "metadata": {},
     "output_type": "execute_result"
    }
   ],
   "source": [
    "round(x)"
   ]
  },
  {
   "cell_type": "code",
   "execution_count": 180,
   "id": "7dac7bd8",
   "metadata": {},
   "outputs": [
    {
     "data": {
      "text/plain": [
       "1212431.3153"
      ]
     },
     "execution_count": 180,
     "metadata": {},
     "output_type": "execute_result"
    }
   ],
   "source": [
    "round(x,4)"
   ]
  },
  {
   "cell_type": "code",
   "execution_count": 181,
   "id": "20421410",
   "metadata": {},
   "outputs": [
    {
     "data": {
      "text/plain": [
       "16"
      ]
     },
     "execution_count": 181,
     "metadata": {},
     "output_type": "execute_result"
    }
   ],
   "source": [
    "10+2*3"
   ]
  },
  {
   "cell_type": "code",
   "execution_count": 182,
   "id": "1a47419d",
   "metadata": {},
   "outputs": [
    {
     "data": {
      "text/plain": [
       "36"
      ]
     },
     "execution_count": 182,
     "metadata": {},
     "output_type": "execute_result"
    }
   ],
   "source": [
    "(10+2)*3"
   ]
  },
  {
   "cell_type": "code",
   "execution_count": 183,
   "id": "9a4bd3e8",
   "metadata": {},
   "outputs": [
    {
     "data": {
      "text/plain": [
       "0.2999999999999998"
      ]
     },
     "execution_count": 183,
     "metadata": {},
     "output_type": "execute_result"
    }
   ],
   "source": [
    "6-5.7"
   ]
  },
  {
   "cell_type": "code",
   "execution_count": 184,
   "id": "74a8d386",
   "metadata": {},
   "outputs": [
    {
     "data": {
      "text/plain": [
       "0.3"
      ]
     },
     "execution_count": 184,
     "metadata": {},
     "output_type": "execute_result"
    }
   ],
   "source": [
    "round(6-5.7,2)"
   ]
  },
  {
   "cell_type": "code",
   "execution_count": 185,
   "id": "af94ba6e",
   "metadata": {},
   "outputs": [],
   "source": [
    "name=\"Sandeep Kumar\""
   ]
  },
  {
   "cell_type": "code",
   "execution_count": 186,
   "id": "5906def9",
   "metadata": {},
   "outputs": [
    {
     "data": {
      "text/plain": [
       "'a'"
      ]
     },
     "execution_count": 186,
     "metadata": {},
     "output_type": "execute_result"
    }
   ],
   "source": [
    "name[1]"
   ]
  },
  {
   "cell_type": "code",
   "execution_count": 187,
   "id": "1366683d",
   "metadata": {},
   "outputs": [
    {
     "data": {
      "text/plain": [
       "' '"
      ]
     },
     "execution_count": 187,
     "metadata": {},
     "output_type": "execute_result"
    }
   ],
   "source": [
    "name[7]"
   ]
  },
  {
   "cell_type": "code",
   "execution_count": 188,
   "id": "874aaf19",
   "metadata": {},
   "outputs": [
    {
     "data": {
      "text/plain": [
       "'deep Kum'"
      ]
     },
     "execution_count": 188,
     "metadata": {},
     "output_type": "execute_result"
    }
   ],
   "source": [
    "name[3:11]"
   ]
  },
  {
   "cell_type": "code",
   "execution_count": 189,
   "id": "4efa2d63",
   "metadata": {},
   "outputs": [
    {
     "data": {
      "text/plain": [
       "'Sandeep Kumar'"
      ]
     },
     "execution_count": 189,
     "metadata": {},
     "output_type": "execute_result"
    }
   ],
   "source": [
    "name[::]"
   ]
  },
  {
   "cell_type": "code",
   "execution_count": 190,
   "id": "d5725b9a",
   "metadata": {},
   "outputs": [
    {
     "data": {
      "text/plain": [
       "'Sandeep Kumar'"
      ]
     },
     "execution_count": 190,
     "metadata": {},
     "output_type": "execute_result"
    }
   ],
   "source": [
    "name[0:]"
   ]
  },
  {
   "cell_type": "code",
   "execution_count": 191,
   "id": "44b97aff",
   "metadata": {},
   "outputs": [],
   "source": [
    "address='''Jaipur, Rajasthan'''"
   ]
  },
  {
   "cell_type": "code",
   "execution_count": 192,
   "id": "8f13c595",
   "metadata": {},
   "outputs": [
    {
     "data": {
      "text/plain": [
       "'Jaipur, Rajasthan'"
      ]
     },
     "execution_count": 192,
     "metadata": {},
     "output_type": "execute_result"
    }
   ],
   "source": [
    "address"
   ]
  },
  {
   "cell_type": "code",
   "execution_count": 193,
   "id": "33f26f88",
   "metadata": {},
   "outputs": [],
   "source": [
    "name1=\"Sandeep\"\n",
    "name2=\"Vivek\"\n",
    "name3=\"Shyam\"\n",
    "names=[name1,name2,name3]"
   ]
  },
  {
   "cell_type": "code",
   "execution_count": 194,
   "id": "a17a76d2",
   "metadata": {},
   "outputs": [
    {
     "data": {
      "text/plain": [
       "['Sandeep', 'Vivek', 'Shyam']"
      ]
     },
     "execution_count": 194,
     "metadata": {},
     "output_type": "execute_result"
    }
   ],
   "source": [
    "names"
   ]
  },
  {
   "cell_type": "code",
   "execution_count": 195,
   "id": "36116fcf",
   "metadata": {},
   "outputs": [],
   "source": [
    "names.append(\"Pandey\")"
   ]
  },
  {
   "cell_type": "code",
   "execution_count": 196,
   "id": "61f0e19a",
   "metadata": {},
   "outputs": [
    {
     "data": {
      "text/plain": [
       "['Sandeep', 'Vivek', 'Shyam', 'Pandey']"
      ]
     },
     "execution_count": 196,
     "metadata": {},
     "output_type": "execute_result"
    }
   ],
   "source": [
    "names"
   ]
  },
  {
   "cell_type": "code",
   "execution_count": 197,
   "id": "f606123b",
   "metadata": {},
   "outputs": [],
   "source": [
    "names.insert(1,\"Anuj\")"
   ]
  },
  {
   "cell_type": "code",
   "execution_count": 198,
   "id": "35013670",
   "metadata": {},
   "outputs": [
    {
     "data": {
      "text/plain": [
       "['Sandeep', 'Anuj', 'Vivek', 'Shyam', 'Pandey']"
      ]
     },
     "execution_count": 198,
     "metadata": {},
     "output_type": "execute_result"
    }
   ],
   "source": [
    "names"
   ]
  },
  {
   "cell_type": "code",
   "execution_count": 199,
   "id": "01d770c7",
   "metadata": {},
   "outputs": [],
   "source": [
    "sid=[96674,90161,100365,99695,90765]"
   ]
  },
  {
   "cell_type": "code",
   "execution_count": 200,
   "id": "19fc40cf",
   "metadata": {},
   "outputs": [],
   "source": [
    "details=names+sid"
   ]
  },
  {
   "cell_type": "code",
   "execution_count": 201,
   "id": "b272ac3b",
   "metadata": {},
   "outputs": [
    {
     "data": {
      "text/plain": [
       "['Sandeep',\n",
       " 'Anuj',\n",
       " 'Vivek',\n",
       " 'Shyam',\n",
       " 'Pandey',\n",
       " 96674,\n",
       " 90161,\n",
       " 100365,\n",
       " 99695,\n",
       " 90765]"
      ]
     },
     "execution_count": 201,
     "metadata": {},
     "output_type": "execute_result"
    }
   ],
   "source": [
    "details"
   ]
  },
  {
   "cell_type": "code",
   "execution_count": 202,
   "id": "27d2cf85",
   "metadata": {},
   "outputs": [
    {
     "data": {
      "text/plain": [
       "10"
      ]
     },
     "execution_count": 202,
     "metadata": {},
     "output_type": "execute_result"
    }
   ],
   "source": [
    "len(details)"
   ]
  },
  {
   "cell_type": "code",
   "execution_count": 203,
   "id": "3ba07c65",
   "metadata": {},
   "outputs": [
    {
     "data": {
      "text/plain": [
       "True"
      ]
     },
     "execution_count": 203,
     "metadata": {},
     "output_type": "execute_result"
    }
   ],
   "source": [
    "\"Sandeep\" in details"
   ]
  },
  {
   "cell_type": "code",
   "execution_count": 204,
   "id": "126fea86",
   "metadata": {},
   "outputs": [
    {
     "data": {
      "text/plain": [
       "False"
      ]
     },
     "execution_count": 204,
     "metadata": {},
     "output_type": "execute_result"
    }
   ],
   "source": [
    "\"Kuldeep\" in details"
   ]
  },
  {
   "cell_type": "code",
   "execution_count": 205,
   "id": "5fa66051",
   "metadata": {},
   "outputs": [],
   "source": [
    "base=10\n",
    "height=5\n",
    "area=1/2*(base*height)"
   ]
  },
  {
   "cell_type": "code",
   "execution_count": 206,
   "id": "c738e00d",
   "metadata": {},
   "outputs": [
    {
     "data": {
      "text/plain": [
       "25.0"
      ]
     },
     "execution_count": 206,
     "metadata": {},
     "output_type": "execute_result"
    }
   ],
   "source": [
    "area"
   ]
  },
  {
   "cell_type": "code",
   "execution_count": 207,
   "id": "e4cb2a26",
   "metadata": {},
   "outputs": [
    {
     "name": "stdout",
     "output_type": "stream",
     "text": [
      "3058\n"
     ]
    }
   ],
   "source": [
    "expense=[12,1224,14,1234,14,134,314,112]\n",
    "total=0\n",
    "for i in expense:\n",
    "    total+=i\n",
    "print(total)"
   ]
  },
  {
   "cell_type": "code",
   "execution_count": 208,
   "id": "425556b1",
   "metadata": {},
   "outputs": [
    {
     "name": "stdout",
     "output_type": "stream",
     "text": [
      "expense is:  12\n",
      "expense is:  1224\n",
      "expense is:  14\n",
      "expense is:  1234\n",
      "expense is:  14\n",
      "expense is:  134\n",
      "expense is:  314\n",
      "expense is:  112\n"
     ]
    }
   ],
   "source": [
    "for i in expense:\n",
    "    print(\"expense is: \",i)"
   ]
  },
  {
   "cell_type": "code",
   "execution_count": 209,
   "id": "2f77fedc",
   "metadata": {},
   "outputs": [
    {
     "name": "stdout",
     "output_type": "stream",
     "text": [
      "0\n",
      "1\n",
      "2\n",
      "3\n",
      "4\n",
      "5\n",
      "6\n",
      "7\n",
      "8\n",
      "9\n",
      "10\n"
     ]
    }
   ],
   "source": [
    "for i in range(0,11):\n",
    "    print(i)"
   ]
  },
  {
   "cell_type": "code",
   "execution_count": 210,
   "id": "31fa3c06",
   "metadata": {},
   "outputs": [
    {
     "name": "stdout",
     "output_type": "stream",
     "text": [
      "Month: 1 Expense: 12\n",
      "Month: 2 Expense: 1224\n",
      "Month: 3 Expense: 14\n",
      "Month: 4 Expense: 1234\n",
      "Month: 5 Expense: 14\n",
      "Month: 6 Expense: 134\n",
      "Month: 7 Expense: 314\n",
      "Month: 8 Expense: 112\n"
     ]
    }
   ],
   "source": [
    "for i in range(len(expense)):\n",
    "    print('Month:',(i+1),\"Expense:\",expense[i])"
   ]
  },
  {
   "cell_type": "code",
   "execution_count": 211,
   "id": "8a46e326",
   "metadata": {},
   "outputs": [
    {
     "name": "stdout",
     "output_type": "stream",
     "text": [
      "The number is 1\n",
      "The number is 2\n",
      "The number is 3\n",
      "The number is 4\n",
      "The number is 5\n",
      "The number 6 is divisible by 2 and 3 both\n",
      "The number is 6\n",
      "The number is 7\n",
      "The number is 8\n",
      "The number is 9\n",
      "The number is 10\n",
      "The number is 11\n",
      "The number 12 is divisible by 2 and 3 both\n",
      "The number is 12\n",
      "The number is 13\n",
      "The number is 14\n",
      "The number 15 is divisible by 3 and 5 both\n",
      "The number is 16\n",
      "The number is 17\n",
      "The number 18 is divisible by 2 and 3 both\n",
      "The number is 18\n",
      "The number is 19\n",
      "The number is 20\n",
      "The number is 21\n",
      "The number is 22\n",
      "The number is 23\n",
      "The number 24 is divisible by 2 and 3 both\n",
      "The number is 24\n",
      "The number is 25\n",
      "The number is 26\n",
      "The number is 27\n",
      "The number is 28\n",
      "The number is 29\n",
      "The number 30 is divisible by 2 and 3 both\n",
      "The number 30 is divisible by 3 and 5 both\n",
      "The number is 31\n",
      "The number is 32\n",
      "The number is 33\n",
      "The number is 34\n",
      "The number is 35\n",
      "The number 36 is divisible by 2 and 3 both\n",
      "The number is 36\n",
      "The number is 37\n",
      "The number is 38\n",
      "The number is 39\n",
      "The number is 40\n",
      "The number is 41\n",
      "The number 42 is divisible by 2 and 3 both\n",
      "The number is 42\n",
      "The number is 43\n",
      "The number is 44\n",
      "The number 45 is divisible by 3 and 5 both\n",
      "The number is 46\n",
      "The number is 47\n",
      "The number 48 is divisible by 2 and 3 both\n",
      "The number is 48\n",
      "The number is 49\n"
     ]
    }
   ],
   "source": [
    "for i in range(1,50):\n",
    "    if i%2==0 and i%3==0:\n",
    "        print(f\"The number {i} is divisible by 2 and 3 both\")\n",
    "    if i%3==0 and i%5==0:\n",
    "        print(f\"The number {i} is divisible by 3 and 5 both\")\n",
    "    else:\n",
    "        print(f\"The number is {i}\")"
   ]
  },
  {
   "cell_type": "code",
   "execution_count": 212,
   "id": "b37b3999",
   "metadata": {},
   "outputs": [
    {
     "name": "stdout",
     "output_type": "stream",
     "text": [
      "Requirement already satisfied: numpy in c:\\users\\sande\\anaconda3\\lib\\site-packages (1.23.5)\n"
     ]
    }
   ],
   "source": [
    "!pip install numpy"
   ]
  },
  {
   "cell_type": "code",
   "execution_count": 213,
   "id": "cd63f1f5",
   "metadata": {},
   "outputs": [],
   "source": [
    "import numpy as np"
   ]
  },
  {
   "cell_type": "code",
   "execution_count": 214,
   "id": "87e53910",
   "metadata": {},
   "outputs": [
    {
     "data": {
      "text/plain": [
       "array([1, 2, 3])"
      ]
     },
     "execution_count": 214,
     "metadata": {},
     "output_type": "execute_result"
    }
   ],
   "source": [
    "np.array([1,2,3])"
   ]
  },
  {
   "cell_type": "code",
   "execution_count": 215,
   "id": "0a48b0d3",
   "metadata": {},
   "outputs": [
    {
     "data": {
      "text/plain": [
       "array([1, 2, 3])"
      ]
     },
     "execution_count": 215,
     "metadata": {},
     "output_type": "execute_result"
    }
   ],
   "source": [
    "np.array([1,2,3.7],dtype=int)"
   ]
  },
  {
   "cell_type": "code",
   "execution_count": 216,
   "id": "f5917694",
   "metadata": {},
   "outputs": [
    {
     "data": {
      "text/plain": [
       "array([1. , 2. , 3.7])"
      ]
     },
     "execution_count": 216,
     "metadata": {},
     "output_type": "execute_result"
    }
   ],
   "source": [
    "np.array([1,2,3.7],dtype=float)"
   ]
  },
  {
   "cell_type": "code",
   "execution_count": 217,
   "id": "c7d180f5",
   "metadata": {},
   "outputs": [
    {
     "data": {
      "text/plain": [
       "array([[1, 2, 3],\n",
       "       [4, 5, 6]])"
      ]
     },
     "execution_count": 217,
     "metadata": {},
     "output_type": "execute_result"
    }
   ],
   "source": [
    "np.array([[1,2,3],[4,5,6]])"
   ]
  },
  {
   "cell_type": "code",
   "execution_count": 218,
   "id": "2ef2d276",
   "metadata": {},
   "outputs": [
    {
     "data": {
      "text/plain": [
       "array([['Sandeep', 'Sandeep'],\n",
       "       ['Sandeep', 'Sandeep']], dtype='<U7')"
      ]
     },
     "execution_count": 218,
     "metadata": {},
     "output_type": "execute_result"
    }
   ],
   "source": [
    "np.full((2,2),\"Sandeep\")"
   ]
  },
  {
   "cell_type": "code",
   "execution_count": 220,
   "id": "8c39b1f1",
   "metadata": {},
   "outputs": [
    {
     "data": {
      "text/plain": [
       "array([[0, 0],\n",
       "       [0, 0]])"
      ]
     },
     "execution_count": 220,
     "metadata": {},
     "output_type": "execute_result"
    }
   ],
   "source": [
    "np.zeros((2,2),dtype=int)"
   ]
  },
  {
   "cell_type": "code",
   "execution_count": 223,
   "id": "98430c2c",
   "metadata": {},
   "outputs": [
    {
     "data": {
      "text/plain": [
       "array([1, 1, 1, 1, 1, 1, 1])"
      ]
     },
     "execution_count": 223,
     "metadata": {},
     "output_type": "execute_result"
    }
   ],
   "source": [
    "np.ones((7),dtype=int)"
   ]
  },
  {
   "cell_type": "code",
   "execution_count": 225,
   "id": "2e45c8e1",
   "metadata": {},
   "outputs": [
    {
     "data": {
      "text/plain": [
       "array([[1.+0.j, 0.+0.j, 0.+0.j, 0.+0.j],\n",
       "       [0.+0.j, 1.+0.j, 0.+0.j, 0.+0.j],\n",
       "       [0.+0.j, 0.+0.j, 1.+0.j, 0.+0.j],\n",
       "       [0.+0.j, 0.+0.j, 0.+0.j, 1.+0.j]])"
      ]
     },
     "execution_count": 225,
     "metadata": {},
     "output_type": "execute_result"
    }
   ],
   "source": [
    "np.eye((4),dtype=complex)"
   ]
  },
  {
   "cell_type": "code",
   "execution_count": 226,
   "id": "cb5f2d79",
   "metadata": {},
   "outputs": [
    {
     "name": "stdout",
     "output_type": "stream",
     "text": [
      "First Number23\n",
      "Second Number27\n",
      "2327\n"
     ]
    }
   ],
   "source": [
    "number=input(\"First Number\") #23\n",
    "number2=input(\"Second Number\") #27\n",
    "print(number+number2)"
   ]
  },
  {
   "cell_type": "code",
   "execution_count": null,
   "id": "72db575a",
   "metadata": {},
   "outputs": [],
   "source": []
  }
 ],
 "metadata": {
  "kernelspec": {
   "display_name": "Python 3 (ipykernel)",
   "language": "python",
   "name": "python3"
  },
  "language_info": {
   "codemirror_mode": {
    "name": "ipython",
    "version": 3
   },
   "file_extension": ".py",
   "mimetype": "text/x-python",
   "name": "python",
   "nbconvert_exporter": "python",
   "pygments_lexer": "ipython3",
   "version": "3.9.12"
  }
 },
 "nbformat": 4,
 "nbformat_minor": 5
}
